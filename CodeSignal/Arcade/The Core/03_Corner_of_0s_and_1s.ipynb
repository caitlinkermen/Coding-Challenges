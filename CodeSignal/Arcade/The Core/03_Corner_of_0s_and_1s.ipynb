{
  "nbformat": 4,
  "nbformat_minor": 0,
  "metadata": {
    "colab": {
      "name": "03_Corner of 0s and 1s.ipynb",
      "provenance": [],
      "collapsed_sections": []
    },
    "kernelspec": {
      "name": "python3",
      "display_name": "Python 3"
    },
    "language_info": {
      "name": "python"
    }
  },
  "cells": [
    {
      "cell_type": "markdown",
      "source": [
        "# Code Signal Corner of 0s and 1s"
      ],
      "metadata": {
        "id": "eNLQI5OfZtWD"
      }
    },
    {
      "cell_type": "markdown",
      "source": [
        "## Kill Kth Bit (17)\n",
        "Implement the missing code, denoted by ellipses. You may not modify the pre-existing code.\n",
        "\n",
        "In order to stop the Mad Coder evil genius you need to decipher the encrypted message he sent to his minions. The message contains several numbers that, when typed into a supercomputer, will launch a missile into the sky blocking out the sun, and making all the people on Earth grumpy and sad.\n",
        "\n",
        "You figured out that some numbers have a modified single digit in their binary representation. More specifically, in the given number n the kth bit from the right was initially set to 0, but its current value might be different. It's now up to you to write a function that will change the kth bit of n back to 0.\n",
        "\n",
        "### Example\n",
        "\n",
        "For n = 37 and k = 3, the output should be\n",
        "solution(n, k) = 33.\n",
        "\n",
        "3710 = 1001012 ~> 1000012 = 3310.\n",
        "\n",
        "For n = 37 and k = 4, the output should be\n",
        "solution(n, k) = 37.\n",
        "\n",
        "The 4th bit is 0 already (looks like the Mad Coder forgot to encrypt this number), so the answer is still 37."
      ],
      "metadata": {
        "id": "NkYujpmUZwyx"
      }
    },
    {
      "cell_type": "code",
      "execution_count": null,
      "metadata": {
        "id": "7XgC2xktZrtn"
      },
      "outputs": [],
      "source": [
        "def killKthBit(n, k):\n",
        "    return n & ~(1 << (k - 1))"
      ]
    },
    {
      "cell_type": "markdown",
      "source": [
        "## Array Packing (18)\n",
        "You are given an array of up to four non-negative integers, each less than 256.\n",
        "\n",
        "Your task is to pack these integers into one number M in the following way:\n",
        "\n",
        "The first element of the array occupies the first 8 bits of M;\n",
        "The second element occupies next 8 bits, and so on.\n",
        "Return the obtained integer M.\n",
        "\n",
        "Note: the phrase \"first bits of M\" refers to the least significant bits of M - the right-most bits of an integer. For further clarification see the following example.\n",
        "\n",
        "### Example\n",
        "\n",
        "For a = [24, 85, 0], the output should be\n",
        "solution(a) = 21784.\n",
        "\n",
        "An array [24, 85, 0] looks like [00011000, 01010101, 00000000] in binary.\n",
        "After packing these into one number we get 00000000 01010101 00011000 (spaces are placed for convenience), which equals to 21784."
      ],
      "metadata": {
        "id": "kbwIDbxdZ164"
      }
    },
    {
      "cell_type": "code",
      "source": [
        "def arrayPacking(a):\n",
        "    binary_array = [bin(num)[2:].rjust(8, '0') for num in a]\n",
        "    out_string = ''.join(binary_array[::-1])\n",
        "    return int(out_string, 2)"
      ],
      "metadata": {
        "id": "ngMUHVGtZ2Vw"
      },
      "execution_count": null,
      "outputs": []
    },
    {
      "cell_type": "markdown",
      "source": [
        "## Range Bit Count (19)\n",
        "You are given two numbers a and b where 0 ≤ a ≤ b. Imagine you construct an array of all the integers from a to b inclusive. You need to count the number of 1s in the binary representations of all the numbers in the array.\n",
        "\n",
        "### Example\n",
        "\n",
        "For a = 2 and b = 7, the output should be\n",
        "solution(a, b) = 11.\n",
        "\n",
        "Given a = 2 and b = 7 the array is: [2, 3, 4, 5, 6, 7]. Converting the numbers to binary, we get [10, 11, 100, 101, 110, 111], which contains 1 + 2 + 1 + 2 + 2 + 3 = 11 1s."
      ],
      "metadata": {
        "id": "14aAcOwIZ23U"
      }
    },
    {
      "cell_type": "code",
      "source": [
        "def rangeBitCount(a, b):\n",
        "    array = list(range(a, b + 1))\n",
        "    binary_array = [bin(num) for num in array]\n",
        "    count_array = [binary.count('1') for binary in binary_array]\n",
        "    return sum(count_array)"
      ],
      "metadata": {
        "id": "oekuT6_1Z3LQ"
      },
      "execution_count": null,
      "outputs": []
    },
    {
      "cell_type": "markdown",
      "source": [
        "## Mirror Bits (20)\n",
        "Reverse the order of the bits in a given integer.\n",
        "\n",
        "### Example\n",
        "\n",
        "For a = 97, the output should be\n",
        "solution(a) = 67.\n",
        "\n",
        "97 equals to 1100001 in binary, which is 1000011 after mirroring, and that is 67 in base 10.\n",
        "\n",
        "For a = 8, the output should be\n",
        "solution(a) = 1."
      ],
      "metadata": {
        "id": "pLeJJxz6Z3gm"
      }
    },
    {
      "cell_type": "code",
      "source": [
        "def mirrorBits(a):\n",
        "    binary = bin(a)[2:]\n",
        "    return int(binary[::-1], 2)"
      ],
      "metadata": {
        "id": "B8dvb3xzZ310"
      },
      "execution_count": null,
      "outputs": []
    },
    {
      "cell_type": "markdown",
      "source": [
        "## Second Rightmost Zero Bit (21)\n",
        "Implement the missing code, denoted by ellipses. You may not modify the pre-existing code.\n",
        "\n",
        "Presented with the integer n, find the 0-based position of the second rightmost zero bit in its binary representation (it is guaranteed that such a bit exists), counting from right to left.\n",
        "\n",
        "Return the value of 2position_of_the_found_bit.\n",
        "\n",
        "### Example\n",
        "\n",
        "For n = 37, the output should be\n",
        "solution(n) = 8.\n",
        "\n",
        "3710 = 1001012. The second rightmost zero bit is at position 3 (0-based) from the right in the binary representation of n.\n",
        "Thus, the answer is 23 = 8."
      ],
      "metadata": {
        "id": "0mIu_4dBZ4QQ"
      }
    },
    {
      "cell_type": "code",
      "source": [
        "def secondRightmostZeroBit(n):\n",
        "    return 2 ** bin(n)[::-1].find('0', bin(n)[::-1].find('0') + 1)"
      ],
      "metadata": {
        "id": "b_7SnT7fZ4uo"
      },
      "execution_count": null,
      "outputs": []
    },
    {
      "cell_type": "markdown",
      "source": [
        "## Swap Adjacent Bits (22)\n",
        "Implement the missing code, denoted by ellipses. You may not modify the pre-existing code.\n",
        "\n",
        "You're given an arbitrary 32-bit integer n. Take its binary representation, split bits into it in pairs (bit number 0 and 1, bit number 2 and 3, etc.) and swap bits in each pair. Then return the result as a decimal number.\n",
        "\n",
        "### Example\n",
        "\n",
        "For n = 13, the output should be\n",
        "solution(n) = 14.\n",
        "\n",
        "1310 = 11012 ~> {11}{01}2 ~> 11102 = 1410.\n",
        "\n",
        "For n = 74, the output should be\n",
        "solution(n) = 133.\n",
        "\n",
        "7410 = 010010102 ~> {01}{00}{10}{10}2 ~> 100001012 = 13310.\n",
        "Note the preceding zero written in front of the initial number: since both numbers are 32-bit integers, they have 32 bits in their binary representation. The preceding zeros in other cases don't matter, so they are omitted. Here, however, it does make a difference."
      ],
      "metadata": {
        "id": "F-SJHz0vZ6io"
      }
    },
    {
      "cell_type": "code",
      "source": [
        "def swapAdjacentBits(n):\n",
        "    return ((n >> 1) & 1431655765) | ((n << 1) & 2863311530)"
      ],
      "metadata": {
        "id": "tTdIOykFZ63F"
      },
      "execution_count": null,
      "outputs": []
    },
    {
      "cell_type": "markdown",
      "source": [
        "## Different Rightmost Bit (23)\n",
        "Implement the missing code, denoted by ellipses. You may not modify the pre-existing code.\n",
        "\n",
        "You're given two integers, n and m. Find position of the rightmost bit in which they differ in their binary representations (it is guaranteed that such a bit exists), counting from right to left.\n",
        "\n",
        "Return the value of 2position_of_the_found_bit (0-based).\n",
        "\n",
        "### Example\n",
        "\n",
        "For n = 11 and m = 13, the output should be\n",
        "solution(n, m) = 2.\n",
        "\n",
        "1110 = 10112, 1310 = 11012, the rightmost bit in which they differ is the bit at position 1 (0-based) from the right in the binary representations.\n",
        "So the answer is 21 = 2.\n",
        "\n",
        "For n = 7 and m = 23, the output should be\n",
        "solution(n, m) = 16.\n",
        "\n",
        "710 = 1112, 2310 = 101112, i.e.\n",
        "\n",
        "\n",
        "\n",
        "```\n",
        "00111\n",
        "10111\n",
        "```\n",
        "\n",
        "\n",
        "So the answer is 24 = 16."
      ],
      "metadata": {
        "id": "lraKkzAKZ7bU"
      }
    },
    {
      "cell_type": "code",
      "source": [
        "def differentRightmostBit(n, m):\n",
        "    return 2 ** bin((n ^ m))[::-1].find('1')"
      ],
      "metadata": {
        "id": "-kFsq-idZ7w0"
      },
      "execution_count": null,
      "outputs": []
    },
    {
      "cell_type": "markdown",
      "source": [
        "## Equal Pair of Bits (24)\n",
        "Implement the missing code, denoted by ellipses. You may not modify the pre-existing code.\n",
        "\n",
        "You're given two integers, n and m. Find position of the rightmost pair of equal bits in their binary representations (it is guaranteed that such a pair exists), counting from right to left.\n",
        "\n",
        "Return the value of 2position_of_the_found_pair (0-based).\n",
        "\n",
        "### Example\n",
        "\n",
        "For n = 10 and m = 11, the output should be\n",
        "solution(n, m) = 2.\n",
        "\n",
        "1010 = 10102, 1110 = 10112, the position of the rightmost pair of equal bits is the bit at position 1 (0-based) from the right in the binary representations.\n",
        "So the answer is 21 = 2."
      ],
      "metadata": {
        "id": "h06E5sc1Z85S"
      }
    },
    {
      "cell_type": "code",
      "source": [
        "def equalPairofBits(n, m):\n",
        "    return 2 ** bin(~(n ^ m))[::-1].find('1')"
      ],
      "metadata": {
        "id": "OLFSwxBfZ9Po"
      },
      "execution_count": null,
      "outputs": []
    }
  ]
}