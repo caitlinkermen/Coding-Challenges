{
  "nbformat": 4,
  "nbformat_minor": 0,
  "metadata": {
    "colab": {
      "name": "06_Labyrinth of Nested Loops.ipynb",
      "provenance": [],
      "collapsed_sections": []
    },
    "kernelspec": {
      "name": "python3",
      "display_name": "Python 3"
    },
    "language_info": {
      "name": "python"
    }
  },
  "cells": [
    {
      "cell_type": "markdown",
      "source": [
        "# Code Signal Labyrinth of Nested Loops"
      ],
      "metadata": {
        "id": "eNLQI5OfZtWD"
      }
    },
    {
      "cell_type": "markdown",
      "source": [
        "## Is Power (43)\n",
        "Determine if the given number is a power of some non-negative integer.\n",
        "\n",
        "### Example\n",
        "\n",
        "For n = 125, the output should be\n",
        "solution(n) = true;\n",
        "For n = 72, the output should be\n",
        "solution(n) = false."
      ],
      "metadata": {
        "id": "NkYujpmUZwyx"
      }
    },
    {
      "cell_type": "code",
      "execution_count": null,
      "metadata": {
        "id": "7XgC2xktZrtn"
      },
      "outputs": [],
      "source": [
        "def isPower(n):\n",
        "    if n == 1:\n",
        "        return True\n",
        "\n",
        "    a = 2\n",
        "    b = 2\n",
        "    while a ** 2 <= n:\n",
        "        while a ** b <= n:\n",
        "            if a ** b == n:\n",
        "                return True\n",
        "            b += 1\n",
        "        b = 2\n",
        "        a += 1\n",
        "    return False"
      ]
    },
    {
      "cell_type": "markdown",
      "source": [
        "## Is Sum of Consecutive (44)\n",
        "Find the number of ways to express n as sum of some (at least two) consecutive positive integers.\n",
        "\n",
        "### Example\n",
        "\n",
        "For n = 9, the output should be\n",
        "solution(n) = 2.\n",
        "\n",
        "There are two ways to represent n = 9: 2 + 3 + 4 = 9 and 4 + 5 = 9.\n",
        "\n",
        "For n = 8, the output should be\n",
        "solution(n) = 0.\n",
        "\n",
        "There are no ways to represent n = 8."
      ],
      "metadata": {
        "id": "kbwIDbxdZ164"
      }
    },
    {
      "cell_type": "code",
      "source": [
        "def isSumOfConsecutive(n):\n",
        "    count = 0\n",
        "    right = 2\n",
        "    arr = [1, 2]\n",
        "    while right <= (n // 2) + 1:\n",
        "        total = sum(arr)\n",
        "        if total == n:\n",
        "            count += 1\n",
        "            del arr[0]\n",
        "        elif total < n:\n",
        "            right += 1\n",
        "            arr.append(right)\n",
        "        elif total > n:\n",
        "            del arr[0]\n",
        "    return count"
      ],
      "metadata": {
        "id": "ngMUHVGtZ2Vw"
      },
      "execution_count": null,
      "outputs": []
    },
    {
      "cell_type": "markdown",
      "source": [
        "## Square Digits Sequence (45)\n",
        "Consider a sequence of numbers a0, a1, ..., an, in which an element is equal to the sum of squared digits of the previous element. The sequence ends once an element that has already been in the sequence appears again.\n",
        "\n",
        "Given the first element a0, find the length of the sequence.\n",
        "\n",
        "### Example\n",
        "\n",
        "For a0 = 16, the output should be\n",
        "solution(a0) = 9.\n",
        "\n",
        "Here's how elements of the sequence are constructed:\n",
        "\n",
        "a0 = 16\n",
        "a1 = 12 + 62 = 37\n",
        "a2 = 32 + 72 = 58\n",
        "a3 = 52 + 82 = 89\n",
        "a4 = 82 + 92 = 145\n",
        "a5 = 12 + 42 + 52 = 42\n",
        "a6 = 42 + 22 = 20\n",
        "a7 = 22 + 02 = 4\n",
        "a8 = 42 = 16, which has already occurred before (a0)\n",
        "Thus, there are 9 elements in the sequence.\n",
        "\n",
        "For a0 = 103, the output should be\n",
        "solution(a0) = 4.\n",
        "\n",
        "The sequence goes as follows: 103 -> 10 -> 1 -> 1, 4 elements altogether."
      ],
      "metadata": {
        "id": "14aAcOwIZ23U"
      }
    },
    {
      "cell_type": "code",
      "source": [
        "def squareDigitsSequence(a0):\n",
        "    sequence = [a0]\n",
        "    while sequence[-1] not in sequence[:-1]:\n",
        "        next_value = 0\n",
        "        for digit in str(sequence[-1]):\n",
        "            next_value += int(digit) ** 2\n",
        "        sequence.append(next_value)\n",
        "    return len(sequence)"
      ],
      "metadata": {
        "id": "oekuT6_1Z3LQ"
      },
      "execution_count": null,
      "outputs": []
    },
    {
      "cell_type": "markdown",
      "source": [
        "## Pages Numbering With Ink (46)\n",
        "You work in a company that prints and publishes books. You are responsible for designing the page numbering mechanism in the printer. You know how many digits a printer can print with the leftover ink. Now you want to write a function to determine what the last page of the book is that you can number given the current page and numberOfDigits left. A page is considered numbered if it has the full number printed on it (e.g. if we are working with page 102 but have ink only for two digits then this page will not be considered numbered).\n",
        "\n",
        "It's guaranteed that you can number the current page, and that you can't number the last one in the book.\n",
        "\n",
        "### Example\n",
        "\n",
        "For current = 1 and numberOfDigits = 5, the output should be\n",
        "solution(current, numberOfDigits) = 5.\n",
        "\n",
        "The following numbers will be printed: 1, 2, 3, 4, 5.\n",
        "\n",
        "For current = 21 and numberOfDigits = 5, the output should be\n",
        "solution(current, numberOfDigits) = 22.\n",
        "\n",
        "The following numbers will be printed: 21, 22.\n",
        "\n",
        "For current = 8 and numberOfDigits = 4, the output should be\n",
        "solution(current, numberOfDigits) = 10.\n",
        "\n",
        "The following numbers will be printed: 8, 9, 10."
      ],
      "metadata": {
        "id": "pLeJJxz6Z3gm"
      }
    },
    {
      "cell_type": "code",
      "source": [
        "def pagesNumberingWithInk(current, numberOfDigits):\n",
        "    numberOfDigits -= len(str(current))\n",
        "    next_digits = len(str(current + 1))\n",
        "    while numberOfDigits >= next_digits:\n",
        "        current += 1\n",
        "        numberOfDigits -= next_digits\n",
        "        next_digits = len(str(current))\n",
        "    return current"
      ],
      "metadata": {
        "id": "B8dvb3xzZ310"
      },
      "execution_count": null,
      "outputs": []
    },
    {
      "cell_type": "markdown",
      "source": [
        "## Comfortable Numbers (47)\n",
        "Let's say that number a feels comfortable with number b if a ≠ b and b lies in the segment [a - s(a), a + s(a)], where s(x) is the sum of x's digits.\n",
        "\n",
        "How many pairs (a, b) are there, such that a < b, both a and b lie on the segment [l, r], and each number feels comfortable with the other (so a feels comfortable with b and b feels comfortable with a)?\n",
        "\n",
        "### Example\n",
        "\n",
        "For l = 10 and r = 12, the output should be\n",
        "solution(l, r) = 2.\n",
        "\n",
        "Here are all values of s(x) to consider:\n",
        "\n",
        "s(10) = 1, so 10 is comfortable with 9 and 11;\n",
        "s(11) = 2, so 11 is comfortable with 9, 10, 12 and 13;\n",
        "s(12) = 3, so 12 is comfortable with 9, 10, 11, 13, 14 and 15.\n",
        "Thus, there are 2 pairs of numbers comfortable with each other within the segment [10; 12]: (10, 11) and (11, 12)."
      ],
      "metadata": {
        "id": "0mIu_4dBZ4QQ"
      }
    },
    {
      "cell_type": "code",
      "source": [
        "def comfortableNumbers(l, r):\n",
        "    count = 0\n",
        "    for a in range(l, r):\n",
        "        for b in range(a + 1, r + 1):\n",
        "            a_sum = sum(int(digit) for digit in str(a))\n",
        "            b_sum = sum(int(digit) for digit in str(b))\n",
        "            if b <= a + a_sum and a >= b - b_sum:\n",
        "                count += 1\n",
        "    return count"
      ],
      "metadata": {
        "id": "b_7SnT7fZ4uo"
      },
      "execution_count": null,
      "outputs": []
    },
    {
      "cell_type": "markdown",
      "source": [
        "## Weak Numbers (48)\n",
        "We define the weakness of number x as the number of positive integers smaller than x that have more divisors than x.\n",
        "\n",
        "It follows that the weaker the number, the greater overall weakness it has. For the given integer n, you need to answer two questions:\n",
        "\n",
        "what is the weakness of the weakest numbers in the range [1, n]?\n",
        "how many numbers in the range [1, n] have this weakness?\n",
        "Return the answer as an array of two elements, where the first element is the answer to the first question, and the second element is the answer to the second question.\n",
        "\n",
        "Example\n",
        "\n",
        "For n = 9, the output should be\n",
        "solution(n) = [2, 2].\n",
        "\n",
        "Here are the number of divisors and the specific weakness of each number in range [1, 9]:\n",
        "\n",
        "\n",
        "\n",
        "```\n",
        "1: d(1) = 1, weakness(1) = 0;\n",
        "2: d(2) = 2, weakness(2) = 0;\n",
        "3: d(3) = 2, weakness(3) = 0;\n",
        "4: d(4) = 3, weakness(4) = 0;\n",
        "5: d(5) = 2, weakness(5) = 1;\n",
        "6: d(6) = 4, weakness(6) = 0;\n",
        "7: d(7) = 2, weakness(7) = 2;\n",
        "8: d(8) = 4, weakness(8) = 0;\n",
        "9: d(9) = 3, weakness(9) = 2.\n",
        "```\n",
        "\n",
        "\n",
        "As you can see, the maximal weakness is 2, and there are 2 numbers with that weakness level."
      ],
      "metadata": {
        "id": "F-SJHz0vZ6io"
      }
    },
    {
      "cell_type": "code",
      "source": [
        "def weakNumbers(n):\n",
        "    all_factors = [count_factors(num) for num in range(1, n+1)]\n",
        "    weaknesses = []\n",
        "    for num, num_factors in enumerate(all_factors, 1):\n",
        "        weakness = 0\n",
        "        for factor in all_factors[:num]:\n",
        "            if factor > num_factors:\n",
        "                weakness += 1\n",
        "        weaknesses.append(weakness)\n",
        "    weakest = max(weaknesses)\n",
        "    return [weakest, weaknesses.count(weakest)]\n",
        "\n",
        "def count_factors(n):\n",
        "    factors = 0\n",
        "    for i in range(1, n+1):\n",
        "        if n % i == 0:\n",
        "            factors += 1\n",
        "    return factors"
      ],
      "metadata": {
        "id": "tTdIOykFZ63F"
      },
      "execution_count": null,
      "outputs": []
    },
    {
      "cell_type": "markdown",
      "source": [
        "## Rectangle Rotation (49)\n",
        "A rectangle with sides equal to even integers a and b is drawn on the Cartesian plane. Its center (the intersection point of its diagonals) coincides with the point (0, 0), but the sides of the rectangle are not parallel to the axes; instead, they are forming 45 degree angles with the axes.\n",
        "\n",
        "How many points with integer coordinates are located inside the given rectangle (including on its sides)?\n",
        "\n",
        "### Example\n",
        "\n",
        "For a = 6 and b = 4, the output should be\n",
        "solution(a, b) = 23."
      ],
      "metadata": {
        "id": "lraKkzAKZ7bU"
      }
    },
    {
      "cell_type": "code",
      "source": [
        "import math\n",
        "\n",
        "def rectangleRotation(a, b):\n",
        "    n = a / (2 ** 0.5)\n",
        "    m = b / (2 ** 0.5)\n",
        "    points = (math.floor(n) * math.floor(m)) + (math.ceil(n) * math.ceil(m))\n",
        "    if math.floor(n) % 2 != math.floor(m) % 2:\n",
        "        points -= 1\n",
        "    return points"
      ],
      "metadata": {
        "id": "-kFsq-idZ7w0"
      },
      "execution_count": null,
      "outputs": []
    },
    {
      "cell_type": "markdown",
      "source": [
        "## Crossword Formation (50)\n",
        "You're a crossword fanatic, and have finally decided to try and create your own. However, you also love symmetry and good design, so you come up with a set of rules they should follow:\n",
        "\n",
        "the crossword must contain exactly four words;\n",
        "these four words should form four pairwise intersections;\n",
        "all words must be written either left-to-right or top-to-bottom;\n",
        "the area of the rectangle formed by empty cells inside the intersections isn't equal to zero.\n",
        "Given 4 words, find the number of ways to make a crossword following the above-described rules. Note that two crosswords which differ by rotation are considered different.\n",
        "\n",
        "### Example\n",
        "\n",
        "For words = [\"crossword\", \"square\", \"formation\", \"something\"], the output should be\n",
        "solution(words) = 6.\n",
        "\n",
        "\n",
        "### JAVASCRIPT SOLUTION\n",
        "\n",
        "\n",
        "```\n",
        "function crosswordFormation(words) {\n",
        "  var permutations = permute(words);\n",
        "  return permutations.reduce((acc, p) => acc + countSolutions(p), 0);\n",
        "}\n",
        "\n",
        "function countSolutions(words) {\n",
        "  var count = 0;\n",
        "  for (var i = 0; i < words[0].length; i++) {\n",
        "    var j = words[1].indexOf(words[0][i]);\n",
        "    while (j >= 0) {\n",
        "      for (var k = i + 2; k < words[0].length; k++) {\n",
        "        var l = words[2].indexOf(words[0][k]);\n",
        "        while (l >= 0) {\n",
        "          for (var m = j + 2; m < words[1].length; m++) {\n",
        "            var n = words[3].indexOf(words[1][m])\n",
        "            while (n >= 0) {\n",
        "              if (words[3].length - n > k - i &&\n",
        "                words[2].length - l > m - j &&\n",
        "                words[3][k - i + n] == words[2][m - j + l]) {\n",
        "                count++;\n",
        "              }\n",
        "              n = words[3].indexOf(words[1][m], n + 1)\n",
        "            }\n",
        "          }\n",
        "          var l = words[2].indexOf(words[0][k], l + 1);\n",
        "        }\n",
        "      }\n",
        "\n",
        "      j = words[1].indexOf(words[0][i], j + 1);\n",
        "    }\n",
        "  }\n",
        "  return count;\n",
        "}\n",
        "\n",
        "var permArr = [];\n",
        "var usedWords = [];\n",
        "function permute(input) {\n",
        "  var i, w;\n",
        "  for (i = 0; i < input.length; i++) {\n",
        "    w = input.splice(i, 1)[0];\n",
        "    usedWords.push(w);\n",
        "    if (input.length == 0) {\n",
        "      permArr.push(usedWords.slice());\n",
        "    }\n",
        "    permute(input);\n",
        "    input.splice(i, 0, w);\n",
        "    usedWords.pop();\n",
        "  }\n",
        "  return permArr\n",
        "};\n",
        "```\n",
        "\n"
      ],
      "metadata": {
        "id": "h06E5sc1Z85S"
      }
    }
  ]
}