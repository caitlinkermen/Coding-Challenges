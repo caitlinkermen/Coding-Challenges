{
  "nbformat": 4,
  "nbformat_minor": 0,
  "metadata": {
    "colab": {
      "name": "01_Intro Gates.ipynb",
      "provenance": [],
      "collapsed_sections": []
    },
    "kernelspec": {
      "name": "python3",
      "display_name": "Python 3"
    },
    "language_info": {
      "name": "python"
    }
  },
  "cells": [
    {
      "cell_type": "markdown",
      "source": [
        "# Code Signal Intro Gates"
      ],
      "metadata": {
        "id": "eNLQI5OfZtWD"
      }
    },
    {
      "cell_type": "markdown",
      "source": [
        "## Add Two Digits (1)\n",
        "You are given a two-digit integer n. Return the sum of its digits.\n",
        "\n",
        "### Example\n",
        "\n",
        "For n = 29, the output should be\n",
        "solution(n) = 11."
      ],
      "metadata": {
        "id": "NkYujpmUZwyx"
      }
    },
    {
      "cell_type": "code",
      "execution_count": null,
      "metadata": {
        "id": "7XgC2xktZrtn"
      },
      "outputs": [],
      "source": [
        "def addTwoDigits(n):\n",
        "    n = str(n)\n",
        "    s = int(n[0]) + int(n[1]) \n",
        "    \n",
        "    return s"
      ]
    },
    {
      "cell_type": "markdown",
      "source": [
        "## Largest Number (2)\n",
        "\n",
        "Given an integer n, return the largest number that contains exactly n digits.\n",
        "\n",
        "### Example\n",
        "\n",
        "For n = 2, the output should be\n",
        "solution(n) = 99."
      ],
      "metadata": {
        "id": "kbwIDbxdZ164"
      }
    },
    {
      "cell_type": "code",
      "source": [
        "def largestNumber(n):\n",
        "    s = (10 ** n) -1\n",
        "    return s"
      ],
      "metadata": {
        "id": "ngMUHVGtZ2Vw"
      },
      "execution_count": null,
      "outputs": []
    },
    {
      "cell_type": "markdown",
      "source": [
        "## Candies (3)\n",
        "n children have got m pieces of candy. They want to eat as much candy as they can, but each child must eat exactly the same amount of candy as any other child. Determine how many pieces of candy will be eaten by all the children together. Individual pieces of candy cannot be split.\n",
        "\n",
        "### Example\n",
        "\n",
        "For n = 3 and m = 10, the output should be\n",
        "solution(n, m) = 9.\n",
        "\n",
        "Each child will eat 3 pieces. So the answer is 9."
      ],
      "metadata": {
        "id": "14aAcOwIZ23U"
      }
    },
    {
      "cell_type": "code",
      "source": [
        "def candies(n, m):\n",
        "    return (m // n) * n "
      ],
      "metadata": {
        "id": "oekuT6_1Z3LQ"
      },
      "execution_count": null,
      "outputs": []
    },
    {
      "cell_type": "markdown",
      "source": [
        "## Seats in Theater (4)\n",
        "Your friend advised you to see a new performance in the most popular theater in the city. He knows a lot about art and his advice is usually good, but not this time: the performance turned out to be awfully dull. It's so bad you want to sneak out, which is quite simple, especially since the exit is located right behind your row to the left. All you need to do is climb over your seat and make your way to the exit.\n",
        "\n",
        "The main problem is your shyness: you're afraid that you'll end up blocking the view (even if only for a couple of seconds) of all the people who sit behind you and in your column or the columns to your left. To gain some courage, you decide to calculate the number of such people and see if you can possibly make it to the exit without disturbing too many people.\n",
        "\n",
        "Given the total number of rows and columns in the theater (nRows and nCols, respectively), and the row and column you're sitting in, return the number of people who sit strictly behind you and in your column or to the left, assuming all seats are occupied.\n",
        "\n",
        "### Example\n",
        "\n",
        "For nCols = 16, nRows = 11, col = 5, and row = 3, the output should be\n",
        "solution(nCols, nRows, col, row) = 96."
      ],
      "metadata": {
        "id": "pLeJJxz6Z3gm"
      }
    },
    {
      "cell_type": "code",
      "source": [
        "def seatsInTheater(nCols, nRows, col, row):\n",
        "    C = nCols - (col-1)\n",
        "    R = nRows - row\n",
        "    return C * R"
      ],
      "metadata": {
        "id": "B8dvb3xzZ310"
      },
      "execution_count": null,
      "outputs": []
    },
    {
      "cell_type": "markdown",
      "source": [
        "## Max Multiple (5)\n",
        "Given a divisor and a bound, find the largest integer N such that:\n",
        "\n",
        "N is divisible by divisor.\n",
        "N is less than or equal to bound.\n",
        "N is greater than 0.\n",
        "It is guaranteed that such a number exists.\n",
        "\n",
        "### Example\n",
        "\n",
        "For divisor = 3 and bound = 10, the output should be\n",
        "solution(divisor, bound) = 9.\n",
        "\n",
        "The largest integer divisible by 3 and not larger than 10 is 9."
      ],
      "metadata": {
        "id": "0mIu_4dBZ4QQ"
      }
    },
    {
      "cell_type": "code",
      "source": [
        "def maxMultiple(divisor, bound):\n",
        "    return (bound // divisor) * divisor "
      ],
      "metadata": {
        "id": "b_7SnT7fZ4uo"
      },
      "execution_count": null,
      "outputs": []
    },
    {
      "cell_type": "markdown",
      "source": [
        "## Circle of Numbers (6)\n",
        "Consider integer numbers from 0 to n - 1 written down along the circle in such a way that the distance between any two neighboring numbers is equal (note that 0 and n - 1 are neighboring, too).\n",
        "\n",
        "Given n and firstNumber, find the number which is written in the radially opposite position to firstNumber.\n",
        "\n",
        "### Example\n",
        "\n",
        "For n = 10 and firstNumber = 2, the output should be\n",
        "solution(n, firstNumber) = 7."
      ],
      "metadata": {
        "id": "F-SJHz0vZ6io"
      }
    },
    {
      "cell_type": "code",
      "source": [
        "def circleOfNumbers(n, firstNumber):\n",
        "    return (firstNumber + n / 2)%n"
      ],
      "metadata": {
        "id": "tTdIOykFZ63F"
      },
      "execution_count": null,
      "outputs": []
    },
    {
      "cell_type": "markdown",
      "source": [
        "## Late Ride (7)\n",
        "One night you go for a ride on your motorcycle. At 00:00 you start your engine, and the built-in timer automatically begins counting the length of your ride, in minutes. Off you go to explore the neighborhood.\n",
        "\n",
        "When you finally decide to head back, you realize there's a chance the bridges on your route home are up, leaving you stranded! Unfortunately, you don't have your watch on you and don't know what time it is. All you know thanks to the bike's timer is that n minutes have passed since 00:00.\n",
        "\n",
        "Using the bike's timer, calculate the current time. Return an answer as the sum of digits that the digital timer in the format hh:mm would show.\n",
        "\n",
        "### Example\n",
        "\n",
        "For n = 240, the output should be\n",
        "solution(n) = 4.\n",
        "\n",
        "Since 240 minutes have passed, the current time is 04:00. The digits sum up to 0 + 4 + 0 + 0 = 4, which is the answer.\n",
        "\n",
        "For n = 808, the output should be\n",
        "solution(n) = 14.\n",
        "\n",
        "808 minutes mean that it's 13:28 now, so the answer should be 1 + 3 + 2 + 8 = 14."
      ],
      "metadata": {
        "id": "lraKkzAKZ7bU"
      }
    },
    {
      "cell_type": "code",
      "source": [
        "import datetime\n",
        "def lateRide(n):\n",
        "    hh, mm= divmod(n, 60)\n",
        "    H = str(hh)\n",
        "    M = str(mm)\n",
        "    T = H + M\n",
        "    S = 0\n",
        "    for num in T:\n",
        "        S += int(num)\n",
        "    return S\n"
      ],
      "metadata": {
        "id": "-kFsq-idZ7w0"
      },
      "execution_count": null,
      "outputs": []
    },
    {
      "cell_type": "markdown",
      "source": [
        "## Phone Call (8)\n",
        "Some phone usage rate may be described as follows:\n",
        "\n",
        "first minute of a call costs min1 cents,\n",
        "each minute from the 2nd up to 10th (inclusive) costs min2_10 cents\n",
        "each minute after 10th costs min11 cents.\n",
        "You have s cents on your account before the call. What is the duration of the longest call (in minutes rounded down to the nearest integer) you can have?\n",
        "\n",
        "### Example\n",
        "\n",
        "For min1 = 3, min2_10 = 1, min11 = 2, and s = 20, the output should be\n",
        "solution(min1, min2_10, min11, s) = 14.\n",
        "\n",
        "Here's why:\n",
        "\n",
        "the first minute costs 3 cents, which leaves you with 20 - 3 = 17 cents;\n",
        "the total cost of minutes 2 through 10 is 1 * 9 = 9, so you can talk 9 more minutes and still have 17 - 9 = 8 cents;\n",
        "each next minute costs 2 cents, which means that you can talk 8 / 2 = 4 more minutes.\n",
        "Thus, the longest call you can make is 1 + 9 + 4 = 14 minutes long."
      ],
      "metadata": {
        "id": "h06E5sc1Z85S"
      }
    },
    {
      "cell_type": "code",
      "source": [
        "def solution(min1, min2_10, min11, s):\n",
        "    if s < min1:\n",
        "        return 0\n",
        "    for i in range(2, 11):\n",
        "        if s < min1 + min2_10 * (i - 1):\n",
        "            return i - 1\n",
        "    return (s - min1 - min2_10 * 9.0) //min11 + 10"
      ],
      "metadata": {
        "id": "OLFSwxBfZ9Po"
      },
      "execution_count": null,
      "outputs": []
    }
  ]
}