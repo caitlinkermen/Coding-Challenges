{
  "nbformat": 4,
  "nbformat_minor": 0,
  "metadata": {
    "colab": {
      "name": "02_At the Crossroads.ipynb",
      "provenance": [],
      "collapsed_sections": []
    },
    "kernelspec": {
      "name": "python3",
      "display_name": "Python 3"
    },
    "language_info": {
      "name": "python"
    }
  },
  "cells": [
    {
      "cell_type": "markdown",
      "source": [
        "# Code Signal At the Crossroads"
      ],
      "metadata": {
        "id": "eNLQI5OfZtWD"
      }
    },
    {
      "cell_type": "markdown",
      "source": [
        "## Reach Next Level (9)\n",
        "You are playing an RPG game. Currently your experience points (XP) total is equal to experience. To reach the next level your XP should be at least at threshold. If you kill the monster in front of you, you will gain more experience points in the amount of the reward.\n",
        "\n",
        "Given values experience, threshold and reward, check if you reach the next level after killing the monster.\n",
        "\n",
        "### Example\n",
        "\n",
        "For experience = 10, threshold = 15, and reward = 5, the output should be\n",
        "solution(experience, threshold, reward) = true;\n",
        "For experience = 10, threshold = 15, and reward = 4, the output should be\n",
        "solution(experience, threshold, reward) = false."
      ],
      "metadata": {
        "id": "NkYujpmUZwyx"
      }
    },
    {
      "cell_type": "code",
      "execution_count": null,
      "metadata": {
        "id": "7XgC2xktZrtn"
      },
      "outputs": [],
      "source": [
        "def reachNextLevel(experience, threshold, reward):\n",
        "    if experience+reward >=threshold:\n",
        "        return True\n",
        "    else:\n",
        "        return False"
      ]
    },
    {
      "cell_type": "markdown",
      "source": [
        "## Knapsack Light (10)\n",
        "You found two items in a treasure chest! The first item weighs weight1 and is worth value1, and the second item weighs weight2 and is worth value2. What is the total maximum value of the items you can take with you, assuming that your max weight capacity is maxW and you can't come back for the items later?\n",
        "\n",
        "Note that there are only two items and you can't bring more than one item of each type, i.e. you can't take two first items or two second items.\n",
        "\n",
        "### Example\n",
        "\n",
        "For value1 = 10, weight1 = 5, value2 = 6, weight2 = 4, and maxW = 8, the output should be\n",
        "solution(value1, weight1, value2, weight2, maxW) = 10.\n",
        "\n",
        "You can only carry the first item.\n",
        "\n",
        "For value1 = 10, weight1 = 5, value2 = 6, weight2 = 4, and maxW = 9, the output should be\n",
        "solution(value1, weight1, value2, weight2, maxW) = 16.\n",
        "\n",
        "You're strong enough to take both of the items with you.\n",
        "\n",
        "For value1 = 5, weight1 = 3, value2 = 7, weight2 = 4, and maxW = 6, the output should be\n",
        "solution(value1, weight1, value2, weight2, maxW) = 7.\n",
        "\n",
        "You can't take both items, but you can take any of them."
      ],
      "metadata": {
        "id": "kbwIDbxdZ164"
      }
    },
    {
      "cell_type": "code",
      "source": [
        "def knapsackLight(value1, weight1, value2, weight2, maxW):\n",
        "    if weight1+weight2<=maxW:\n",
        "        return value1+value2\n",
        "    \n",
        "    if weight1>maxW and weight2<=maxW:\n",
        "        return value2\n",
        "    elif weight2>maxW and weight1<=maxW:\n",
        "        return value1\n",
        "    elif weight1>maxW and weight2>maxW:\n",
        "        return 0\n",
        "    \n",
        "    return max(value1,value2)"
      ],
      "metadata": {
        "id": "ngMUHVGtZ2Vw"
      },
      "execution_count": null,
      "outputs": []
    },
    {
      "cell_type": "markdown",
      "source": [
        "## Extra Number (11)\n",
        "You're given three integers, a, b and c. It is guaranteed that two of these integers are equal to each other. What is the value of the third integer?\n",
        "\n",
        "Example\n",
        "\n",
        "For a = 2, b = 7, and c = 2, the output should be\n",
        "solution(a, b, c) = 7.\n",
        "\n",
        "The two equal numbers are a and c. The third number (b) equals 7, which is the answer."
      ],
      "metadata": {
        "id": "14aAcOwIZ23U"
      }
    },
    {
      "cell_type": "code",
      "source": [
        "def extraNumber(a, b, c):\n",
        "    if a==b:\n",
        "        return c\n",
        "    elif a==c:\n",
        "        return b\n",
        "    else:\n",
        "        return a"
      ],
      "metadata": {
        "id": "oekuT6_1Z3LQ"
      },
      "execution_count": null,
      "outputs": []
    },
    {
      "cell_type": "markdown",
      "source": [
        "## Is Infinite Process (12)\n",
        "Given integers a and b, determine whether the following pseudocode results in an infinite loop\n",
        "\n",
        "\n",
        "\n",
        "```\n",
        "while a is not equal to b do\n",
        "  increase a by 1\n",
        "  decrease b by 1\n",
        "```\n",
        "\n",
        "\n",
        "Assume that the program is executed on a virtual machine which can store arbitrary long numbers and execute forever.\n",
        "\n",
        "### Example\n",
        "\n",
        "For a = 2 and b = 6, the output should be\n",
        "solution(a, b) = false;\n",
        "For a = 2 and b = 3, the output should be\n",
        "solution(a, b) = true."
      ],
      "metadata": {
        "id": "pLeJJxz6Z3gm"
      }
    },
    {
      "cell_type": "code",
      "source": [
        "def isInfiniteProcess(a, b):\n",
        "    if b<a:\n",
        "        return True\n",
        "    \n",
        "    if (b-a)%2 ==0:\n",
        "        return False\n",
        "    else:\n",
        "        return True\n"
      ],
      "metadata": {
        "id": "B8dvb3xzZ310"
      },
      "execution_count": null,
      "outputs": []
    },
    {
      "cell_type": "markdown",
      "source": [
        "## Arithmetic Expression (13)\n",
        "Consider an arithmetic expression of the form a#b=c. Check whether it is possible to replace # with one of the four signs: +, -, * or / to obtain a correct expression.\n",
        "\n",
        "### Example\n",
        "\n",
        "For a = 2, b = 3, and c = 5, the output should be\n",
        "solution(a, b, c) = true.\n",
        "\n",
        "We can replace # with a + to obtain 2 + 3 = 5, so the answer is true.\n",
        "\n",
        "For a = 8, b = 2, and c = 4, the output should be\n",
        "solution(a, b, c) = true.\n",
        "\n",
        "We can replace # with a / to obtain 8 / 2 = 4, so the answer is true.\n",
        "\n",
        "For a = 8, b = 3, and c = 2, the output should be\n",
        "solution(a, b, c) = false.\n",
        "\n",
        "\n",
        "\n",
        "```\n",
        "8 + 3 = 11 ≠ 2;\n",
        "8 - 3 = 5 ≠ 2;\n",
        "8 * 3 = 24 ≠ 2;\n",
        "8 / 3 = 2.(6) ≠ 2.\n",
        "```\n",
        "\n",
        "\n",
        "So the answer is false."
      ],
      "metadata": {
        "id": "0mIu_4dBZ4QQ"
      }
    },
    {
      "cell_type": "code",
      "source": [
        "def arithmeticExpression(a, b, c):\n",
        "    X = 0\n",
        "    if a + b == c:\n",
        "        X += 1\n",
        "    elif a - b == c:\n",
        "        X += 1\n",
        "    elif a * b == c:\n",
        "        X += 1\n",
        "    elif a / b == c:\n",
        "        X += 1\n",
        "    else:\n",
        "        X += 0\n",
        "\n",
        "    return bool(X >= 1)"
      ],
      "metadata": {
        "id": "b_7SnT7fZ4uo"
      },
      "execution_count": null,
      "outputs": []
    },
    {
      "cell_type": "markdown",
      "source": [
        "## Tennis Set (14)\n",
        "In tennis, the winner of a set is based on how many games each player wins. The first player to win 6 games is declared the winner unless their opponent had already won 5 games, in which case the set continues until one of the players has won 7 games.\n",
        "\n",
        "Given two integers score1 and score2, your task is to determine if it is possible for a tennis set to be finished with a final score of score1 : score2.\n",
        "\n",
        "### Example\n",
        "\n",
        "For score1 = 3 and score2 = 6, the output should be\n",
        "solution(score1, score2) = true.\n",
        "\n",
        "Since player 1 hadn't reached 5 wins, the set ends once player 2 has won 6 games.\n",
        "\n",
        "For score1 = 8 and score2 = 5, the output should be\n",
        "solution(score1, score2) = false.\n",
        "\n",
        "Since both players won at least 5 games, the set would've ended once one of them won the 7th one.\n",
        "\n",
        "For score1 = 6 and score2 = 5, the output should be\n",
        "solution(score1, score2) = false.\n",
        "\n",
        "This set will continue until one of these players wins their 7th game, so this can't be the final score."
      ],
      "metadata": {
        "id": "F-SJHz0vZ6io"
      }
    },
    {
      "cell_type": "code",
      "source": [
        "def tennisSet(score1, score2):\n",
        "    mini = min(score1, score2)\n",
        "    maxi = max(score1, score2)\n",
        "\n",
        "    if maxi == 6 and mini < 5:\n",
        "        return True\n",
        "    elif maxi == 7 and (mini == 5 or mini == 6):\n",
        "        return True\n",
        "\n",
        "    return False"
      ],
      "metadata": {
        "id": "tTdIOykFZ63F"
      },
      "execution_count": null,
      "outputs": []
    },
    {
      "cell_type": "markdown",
      "source": [
        "## Will You (15)\n",
        "Once Mary heard a famous song, and a line from it stuck in her head. That line was \"Will you still love me when I'm no longer young and beautiful?\". Mary believes that a person is loved if and only if he/she is both young and beautiful, but this is quite a depressing thought, so she wants to put her belief to the test.\n",
        "\n",
        "Knowing whether a person is young, beautiful and loved, find out if they contradict Mary's belief.\n",
        "\n",
        "A person contradicts Mary's belief if one of the following statements is true:\n",
        "\n",
        "they are young and beautiful but not loved;\n",
        "they are loved but not young or not beautiful.\n",
        "### Example\n",
        "\n",
        "For young = true, beautiful = true, and loved = true, the output should be\n",
        "solution(young, beautiful, loved) = false.\n",
        "\n",
        "Young and beautiful people are loved according to Mary's belief.\n",
        "\n",
        "For young = true, beautiful = false, and loved = true, the output should be\n",
        "solution(young, beautiful, loved) = true.\n",
        "\n",
        "Mary doesn't believe that not beautiful people can be loved."
      ],
      "metadata": {
        "id": "lraKkzAKZ7bU"
      }
    },
    {
      "cell_type": "code",
      "source": [
        "def willYou(young, beautiful, loved):\n",
        "    if young and beautiful and loved:\n",
        "        return False\n",
        "    elif young and beautiful and not loved:\n",
        "        return True\n",
        "    elif (young and beautiful) or loved:\n",
        "        return True\n",
        "    else:\n",
        "        return False"
      ],
      "metadata": {
        "id": "-kFsq-idZ7w0"
      },
      "execution_count": null,
      "outputs": []
    },
    {
      "cell_type": "markdown",
      "source": [
        "## Metro Card (16)\n",
        "You just bought a public transit card that allows you to ride the Metro for a certain number of days.\n",
        "\n",
        "Here is how it works: upon first receiving the card, the system allocates you a 31-day pass, which equals the number of days in January. The second time you pay for the card, your pass is extended by 28 days, i.e. the number of days in February (note that leap years are not considered), and so on. The 13th time you extend the pass, you get 31 days again.\n",
        "\n",
        "You just ran out of days on the card, and unfortunately you've forgotten how many times your pass has been extended so far. However, you do remember the number of days you were able to ride the Metro during this most recent month. Figure out the number of days by which your pass will now be extended, and return all the options as an array sorted in increasing order.\n",
        "\n",
        "### Example\n",
        "\n",
        "For lastNumberOfDays = 30, the output should be\n",
        "solution(lastNumberOfDays) = [31].\n",
        "\n",
        "There are 30 days in April, June, September and November, so the next months to consider are May, July, October or December. All of them have exactly 31 days, which means that you will definitely get a 31-days pass the next time you extend your card."
      ],
      "metadata": {
        "id": "h06E5sc1Z85S"
      }
    },
    {
      "cell_type": "code",
      "source": [
        "def metroCard(lastNumberOfDays):\n",
        "    if lastNumberOfDays==30 or lastNumberOfDays==28:\n",
        "        return [31]\n",
        "    if lastNumberOfDays==31:\n",
        "        return [28,30,31]"
      ],
      "metadata": {
        "id": "OLFSwxBfZ9Po"
      },
      "execution_count": null,
      "outputs": []
    }
  ]
}