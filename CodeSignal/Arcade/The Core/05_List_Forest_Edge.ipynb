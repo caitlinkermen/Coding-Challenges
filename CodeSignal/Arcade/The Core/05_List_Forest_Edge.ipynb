{
  "nbformat": 4,
  "nbformat_minor": 0,
  "metadata": {
    "colab": {
      "name": "05_List Forest Edge.ipynb",
      "provenance": [],
      "collapsed_sections": []
    },
    "kernelspec": {
      "name": "python3",
      "display_name": "Python 3"
    },
    "language_info": {
      "name": "python"
    }
  },
  "cells": [
    {
      "cell_type": "markdown",
      "source": [
        "# Code Signal List Forest Edge"
      ],
      "metadata": {
        "id": "eNLQI5OfZtWD"
      }
    },
    {
      "cell_type": "markdown",
      "source": [
        "## Create Array (35)\n",
        "Given an integer size, return array of length size filled with 1s.\n",
        "\n",
        "### Example\n",
        "\n",
        "For size = 4, the output should be\n",
        "solution(size) = [1, 1, 1, 1]."
      ],
      "metadata": {
        "id": "NkYujpmUZwyx"
      }
    },
    {
      "cell_type": "code",
      "execution_count": null,
      "metadata": {
        "id": "7XgC2xktZrtn"
      },
      "outputs": [],
      "source": [
        "def createArray(size):\n",
        "    L = []\n",
        "    for i in range(size):\n",
        "        L.append(1)\n",
        "    return L"
      ]
    },
    {
      "cell_type": "markdown",
      "source": [
        "## Array Replace (36)\n",
        "Given an array of integers, replace all the occurrences of elemToReplace with substitutionElem.\n",
        "\n",
        "### Example\n",
        "\n",
        "For inputArray = [1, 2, 1], elemToReplace = 1, and substitutionElem = 3, the output should be\n",
        "solution(inputArray, elemToReplace, substitutionElem) = [3, 2, 3]."
      ],
      "metadata": {
        "id": "kbwIDbxdZ164"
      }
    },
    {
      "cell_type": "code",
      "source": [
        "def arrayReplace(inputArray, elemToReplace, substitutionElem):\n",
        "    l = []\n",
        "    for i in range(len(inputArray)):\n",
        "        if inputArray[i] == elemToReplace:\n",
        "            l.append(substitutionElem)\n",
        "        else: \n",
        "            l.append(inputArray[i])\n",
        "    return l"
      ],
      "metadata": {
        "id": "ngMUHVGtZ2Vw"
      },
      "execution_count": null,
      "outputs": []
    },
    {
      "cell_type": "markdown",
      "source": [
        "## First Reverse Try (37)\n",
        "Reversing an array can be a tough task, especially for a novice programmer. Mary just started coding, so she would like to start with something basic at first. Instead of reversing the array entirely, she wants to swap just its first and last elements.\n",
        "\n",
        "Given an array arr, swap its first and last elements and return the resulting array.\n",
        "\n",
        "### Example\n",
        "\n",
        "For arr = [1, 2, 3, 4, 5], the output should be\n",
        "solution(arr) = [5, 2, 3, 4, 1]."
      ],
      "metadata": {
        "id": "14aAcOwIZ23U"
      }
    },
    {
      "cell_type": "code",
      "source": [
        "def firstReverseTry(arr):\n",
        "    ## Swap the first and last items in an array\n",
        "    if len(arr) >= 2:\n",
        "        arr[0], arr[-1] = arr[-1], arr[0]\n",
        "    \n",
        "    else:\n",
        "        arr\n",
        "    return arr"
      ],
      "metadata": {
        "id": "oekuT6_1Z3LQ"
      },
      "execution_count": null,
      "outputs": []
    },
    {
      "cell_type": "markdown",
      "source": [
        "## Concatenate Arrays (38)\n",
        "Given two arrays of integers a and b, obtain the array formed by the elements of a followed by the elements of b.\n",
        "\n",
        "### Example\n",
        "\n",
        "For a = [2, 2, 1] and b = [10, 11], the output should be\n",
        "solution(a, b) = [2, 2, 1, 10, 11]."
      ],
      "metadata": {
        "id": "pLeJJxz6Z3gm"
      }
    },
    {
      "cell_type": "code",
      "source": [
        "def concatenateArrays(a, b):\n",
        "    for i in b:\n",
        "        a.append(i)\n",
        "    return a "
      ],
      "metadata": {
        "id": "B8dvb3xzZ310"
      },
      "execution_count": null,
      "outputs": []
    },
    {
      "cell_type": "markdown",
      "source": [
        "## Remove Array Part (39)\n",
        "Remove a part of a given array between given 0-based indexes l and r (inclusive).\n",
        "\n",
        "### Example\n",
        "\n",
        "For inputArray = [2, 3, 2, 3, 4, 5], l = 2, and r = 4, the output should be\n",
        "solution(inputArray, l, r) = [2, 3, 5]."
      ],
      "metadata": {
        "id": "0mIu_4dBZ4QQ"
      }
    },
    {
      "cell_type": "code",
      "source": [
        "def removeArrayPart(inputArray, l, r):\n",
        "    del inputArray[l:r+1]\n",
        "    return inputArray"
      ],
      "metadata": {
        "id": "b_7SnT7fZ4uo"
      },
      "execution_count": null,
      "outputs": []
    },
    {
      "cell_type": "markdown",
      "source": [
        "## Is Smooth (40)\n",
        "We define the middle of the array arr as follows:\n",
        "\n",
        "if arr contains an odd number of elements, its middle is the element whose index number is the same when counting from the beginning of the array and from its end;\n",
        "if arr contains an even number of elements, its middle is the sum of the two elements whose index numbers when counting from the beginning and from the end of the array differ by one.\n",
        "An array is called smooth if its first and its last elements are equal to one another and to the middle. Given an array arr, determine if it is smooth or not.\n",
        "\n",
        "### Example\n",
        "\n",
        "For arr = [7, 2, 2, 5, 10, 7], the output should be\n",
        "solution(arr) = true.\n",
        "\n",
        "The first and the last elements of arr are equal to 7, and its middle also equals 2 + 5 = 7. Thus, the array is smooth and the output is true.\n",
        "\n",
        "For arr = [-5, -5, 10], the output should be\n",
        "solution(arr) = false.\n",
        "\n",
        "The first and middle elements are equal to -5, but the last element equals 10. Thus, arr is not smooth and the output is false."
      ],
      "metadata": {
        "id": "F-SJHz0vZ6io"
      }
    },
    {
      "cell_type": "code",
      "source": [
        "def isSmooth(arr):\n",
        "    if arr[0] != arr[-1]:\n",
        "        return False\n",
        "    if len(arr) % 2 == 0:\n",
        "        middle = arr[len(arr) // 2] + arr[(len(arr) // 2) - 1]\n",
        "    else:\n",
        "        middle = arr[len(arr) // 2]\n",
        "    return arr[0] == middle"
      ],
      "metadata": {
        "id": "tTdIOykFZ63F"
      },
      "execution_count": null,
      "outputs": []
    },
    {
      "cell_type": "markdown",
      "source": [
        "## Replace Middle (41)\n",
        "We define the middle of the array arr as follows:\n",
        "\n",
        "if arr contains an odd number of elements, its middle is the element whose index number is the same when counting from the beginning of the array and from its end;\n",
        "if arr contains an even number of elements, its middle is the sum of the two elements whose index numbers when counting from the beginning and from the end of the array differ by one.\n",
        "Given array arr, your task is to find its middle, and, if it consists of two elements, replace those elements with the value of middle. Return the resulting array as the answer.\n",
        "\n",
        "### Example\n",
        "\n",
        "For arr = [7, 2, 2, 5, 10, 7], the output should be\n",
        "solution(arr) = [7, 2, 7, 10, 7].\n",
        "\n",
        "The middle consists of two elements, 2 and 5. These two elements should be replaced with their sum, i.e. 7.\n",
        "\n",
        "For arr = [-5, -5, 10], the output should be\n",
        "solution(arr) = [-5, -5, 10].\n",
        "\n",
        "The middle is defined as a single element -5, so the initial array with no changes should be returned."
      ],
      "metadata": {
        "id": "lraKkzAKZ7bU"
      }
    },
    {
      "cell_type": "code",
      "source": [
        "def replaceMiddle(arr):\n",
        "    if len(arr) % 2 != 0:\n",
        "        return arr\n",
        "    right_middle = len(arr) // 2\n",
        "    middle_value = arr[right_middle] + arr[right_middle - 1]\n",
        "    return arr[:right_middle - 1] + [middle_value] + arr[right_middle + 1:]"
      ],
      "metadata": {
        "id": "-kFsq-idZ7w0"
      },
      "execution_count": null,
      "outputs": []
    },
    {
      "cell_type": "markdown",
      "source": [
        "## Make Array Consecutive (42)\n",
        "Ratiorg got statues of different sizes as a present from CodeMaster for his birthday, each statue having an non-negative integer size. Since he likes to make things perfect, he wants to arrange them from smallest to largest so that each statue will be bigger than the previous one exactly by 1. He may need some additional statues to be able to accomplish that. Help him figure out the minimum number of additional statues needed.\n",
        "\n",
        "### Example\n",
        "\n",
        "For statues = [6, 2, 3, 8], the output should be\n",
        "solution(statues) = 3.\n",
        "\n",
        "Ratiorg needs statues of sizes 4, 5 and 7."
      ],
      "metadata": {
        "id": "h06E5sc1Z85S"
      }
    },
    {
      "cell_type": "code",
      "source": [
        "def makeArrayConsecutive(statues):\n",
        "    count = 0\n",
        "    for i in range(min(statues), max(statues)):\n",
        "        if i not in statues:\n",
        "            count += 1\n",
        "    return count"
      ],
      "metadata": {
        "id": "OLFSwxBfZ9Po"
      },
      "execution_count": null,
      "outputs": []
    }
  ]
}