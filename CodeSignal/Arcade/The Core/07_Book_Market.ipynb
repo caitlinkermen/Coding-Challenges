{
  "nbformat": 4,
  "nbformat_minor": 0,
  "metadata": {
    "colab": {
      "name": "07_Book Market.ipynb",
      "provenance": [],
      "collapsed_sections": []
    },
    "kernelspec": {
      "name": "python3",
      "display_name": "Python 3"
    },
    "language_info": {
      "name": "python"
    }
  },
  "cells": [
    {
      "cell_type": "markdown",
      "source": [
        "# Code Signal Book Market"
      ],
      "metadata": {
        "id": "eNLQI5OfZtWD"
      }
    },
    {
      "cell_type": "markdown",
      "source": [
        "## Enclose in Brackets (51)\n",
        "Given a string, enclose it in round brackets.\n",
        "\n",
        "### Example\n",
        "\n",
        "For inputString = \"abacaba\", the output should be\n",
        "solution(inputString) = \"(abacaba)\"."
      ],
      "metadata": {
        "id": "NkYujpmUZwyx"
      }
    },
    {
      "cell_type": "code",
      "execution_count": null,
      "metadata": {
        "id": "7XgC2xktZrtn"
      },
      "outputs": [],
      "source": [
        "def encloseInBrackets(inputString):\n",
        "    return \"(\" + inputString + \")\""
      ]
    },
    {
      "cell_type": "markdown",
      "source": [
        "## Proper Noun Correction (52)\n",
        "\n",
        "Proper nouns always begin with a capital letter, followed by small letters.\n",
        "\n",
        "Correct a given proper noun so that it fits this statement.\n",
        "\n",
        "### Example\n",
        "\n",
        "For noun = \"pARiS\", the output should be\n",
        "solution(noun) = \"Paris\";\n",
        "For noun = \"John\", the output should be\n",
        "solution(noun) = \"John\"."
      ],
      "metadata": {
        "id": "kbwIDbxdZ164"
      }
    },
    {
      "cell_type": "code",
      "source": [
        "def properNounCorrection(noun):\n",
        "    return noun.title()"
      ],
      "metadata": {
        "id": "ngMUHVGtZ2Vw"
      },
      "execution_count": null,
      "outputs": []
    },
    {
      "cell_type": "markdown",
      "source": [
        "## Is Tandem Repeat (53)\n",
        "Determine whether the given string can be obtained by one concatenation of some string to itself.\n",
        "\n",
        "### Example\n",
        "\n",
        "For inputString = \"tandemtandem\", the output should be\n",
        "solution(inputString) = true;\n",
        "For inputString = \"qqq\", the output should be\n",
        "solution(inputString) = false;\n",
        "For inputString = \"2w2ww\", the output should be\n",
        "solution(inputString) = false."
      ],
      "metadata": {
        "id": "14aAcOwIZ23U"
      }
    },
    {
      "cell_type": "code",
      "source": [
        "def isTandemRepeat(inputString):\n",
        "    if len(inputString) % 2 == 0:\n",
        "        half = len(inputString) // 2\n",
        "        if inputString[:half] == inputString[half:]:\n",
        "            return True\n",
        "        else:\n",
        "            return False\n",
        "    else:\n",
        "        return False"
      ],
      "metadata": {
        "id": "oekuT6_1Z3LQ"
      },
      "execution_count": null,
      "outputs": []
    },
    {
      "cell_type": "markdown",
      "source": [
        "## Is Case Insensitive Palindrome (54)\n",
        "Given a string, check if it can become a palindrome through a case change of some (possibly, none) letters.\n",
        "\n",
        "### Example\n",
        "\n",
        "For inputString = \"AaBaa\", the output should be\n",
        "solution(inputString) = true.\n",
        "\n",
        "\"aabaa\" is a palindrome as well as \"AABAA\", \"aaBaa\", etc.\n",
        "\n",
        "For inputString = \"abac\", the output should be\n",
        "solution(inputString) = false.\n",
        "\n",
        "All the strings which can be obtained via changing case of some group of letters, i.e. \"abac\", \"Abac\", \"aBAc\" and 13 more, are not palindromes."
      ],
      "metadata": {
        "id": "pLeJJxz6Z3gm"
      }
    },
    {
      "cell_type": "code",
      "source": [
        "def isCaseInsensitivePalindrome(inputString):\n",
        "    inputString = inputString.lower()\n",
        "    reverse = inputString[::-1]\n",
        "    if inputString == reverse:\n",
        "        return True\n",
        "    else:\n",
        "        return False"
      ],
      "metadata": {
        "id": "B8dvb3xzZ310"
      },
      "execution_count": null,
      "outputs": []
    },
    {
      "cell_type": "markdown",
      "source": [
        "## Find Email Domain (55)\n",
        "An email address such as \"John.Smith@example.com\" is made up of a local part (\"John.Smith\"), an \"@\" symbol, then a domain part (\"example.com\").\n",
        "\n",
        "The domain name part of an email address may only consist of letters, digits, hyphens and dots. The local part, however, also allows a lot of different special characters. Here you can look at several examples of correct and incorrect email addresses.\n",
        "\n",
        "Given a valid email address, find its domain part.\n",
        "\n",
        "### Example\n",
        "\n",
        "For address = \"prettyandsimple@example.com\", the output should be\n",
        "solution(address) = \"example.com\";\n",
        "For address = \"fully-qualified-domain@codesignal.com\", the output should be\n",
        "solution(address) = \"codesignal.com\"."
      ],
      "metadata": {
        "id": "0mIu_4dBZ4QQ"
      }
    },
    {
      "cell_type": "code",
      "source": [
        "def findEmailDomain(address):\n",
        "    return address[address.rindex('@')+1:]"
      ],
      "metadata": {
        "id": "b_7SnT7fZ4uo"
      },
      "execution_count": null,
      "outputs": []
    },
    {
      "cell_type": "markdown",
      "source": [
        "## HTML End Tag By Start Tag (56)\n",
        "You are implementing your own HTML editor. To make it more comfortable for developers you would like to add an auto-completion feature to it.\n",
        "\n",
        "Given the starting HTML tag, find the appropriate end tag which your editor should propose.\n",
        "\n",
        "If you are not familiar with HTML, consult with this note.\n",
        "\n",
        "### Example\n",
        "\n",
        "\n",
        "```\n",
        "For startTag = \"<button type='button' disabled>\", the output should be\n",
        "solution(startTag) = \"</button>\";\n",
        "For startTag = \"<i>\", the output should be\n",
        "solution(startTag) = \"</i>\".\n",
        "```\n",
        "\n",
        "\n"
      ],
      "metadata": {
        "id": "F-SJHz0vZ6io"
      }
    },
    {
      "cell_type": "code",
      "source": [
        "def HTMLEndTagByStartTag(startTag):\n",
        "    text = startTag.translate({ord(i):None for i in \"</'=>\"})\n",
        "    text = text.split(\" \",1)[0]\n",
        "    return \"</\" + text + \">\""
      ],
      "metadata": {
        "id": "tTdIOykFZ63F"
      },
      "execution_count": null,
      "outputs": []
    },
    {
      "cell_type": "markdown",
      "source": [
        "## Is MAC48 Address (57)\n",
        "A media access control address (MAC address) is a unique identifier assigned to network interfaces for communications on the physical network segment.\n",
        "\n",
        "The standard (IEEE 802) format for printing MAC-48 addresses in human-friendly form is six groups of two hexadecimal digits (0 to 9 or A to F), separated by hyphens (e.g. 01-23-45-67-89-AB).\n",
        "\n",
        "Your task is to check by given string inputString whether it corresponds to MAC-48 address or not.\n",
        "\n",
        "### Example\n",
        "\n",
        "For inputString = \"00-1B-63-84-45-E6\", the output should be\n",
        "solution(inputString) = true;\n",
        "For inputString = \"Z1-1B-63-84-45-E6\", the output should be\n",
        "solution(inputString) = false;\n",
        "For inputString = \"not a MAC-48 address\", the output should be\n",
        "solution(inputString) = false."
      ],
      "metadata": {
        "id": "lraKkzAKZ7bU"
      }
    },
    {
      "cell_type": "code",
      "source": [
        "def isMAC488Address(inputString):\n",
        "    codes = inputString.split('-')\n",
        "    if len(codes) != 6: return False\n",
        "    for code in codes:\n",
        "        if not isHexDigit(code): return False\n",
        "    return True\n",
        "        \n",
        "def isHexDigit(code):\n",
        "    if len(code) != 2: return False\n",
        "    hexvalues = \"0123456789ABCDEFabcdef\"\n",
        "    return code[0] in hexvalues and code[1] in hexvalues"
      ],
      "metadata": {
        "id": "-kFsq-idZ7w0"
      },
      "execution_count": null,
      "outputs": []
    },
    {
      "cell_type": "markdown",
      "source": [
        "## Is Unstable Pair (58)\n",
        "Some file managers sort filenames taking into account case of the letters, others compare strings as if all of the letters are of the same case. That may lead to different ways of filename ordering.\n",
        "\n",
        "Call two filenames an unstable pair if their ordering depends on the case.\n",
        "\n",
        "To compare two filenames a and b, find the first position i at which a[i] ≠ b[i]. If a[i] < b[i], then a < b. Otherwise a > b. If such position doesn't exist, the shorter string goes first.\n",
        "\n",
        "Given two filenames, check whether they form an unstable pair.\n",
        "\n",
        "### Example\n",
        "\n",
        "For filename1 = \"aa\" and filename2 = \"AAB\", the output should be\n",
        "solution(filename1, filename2) = true.\n",
        "\n",
        "Because \"AAB\" < \"aa\", but \"AAB\" > \"AA\".\n",
        "\n",
        "For filename1 = \"A\" and filename2 = \"z\", the output should be\n",
        "solution(filename1, filename2) = false.\n",
        "\n",
        "Both \"A\" < \"z\" and \"a\" < \"z\"."
      ],
      "metadata": {
        "id": "h06E5sc1Z85S"
      }
    },
    {
      "cell_type": "code",
      "source": [
        "def isUnstablePair(filename1, filename2):\n",
        "    L = [filename1, filename2]\n",
        "    M = [filename1.lower(), filename2.lower()]\n",
        "    L.sort()\n",
        "    for i in range(len(L)):\n",
        "        L[i] = L[i].lower()\n",
        "        \n",
        "    \n",
        "    return L != sorted(M)"
      ],
      "metadata": {
        "id": "OLFSwxBfZ9Po"
      },
      "execution_count": null,
      "outputs": []
    }
  ]
}