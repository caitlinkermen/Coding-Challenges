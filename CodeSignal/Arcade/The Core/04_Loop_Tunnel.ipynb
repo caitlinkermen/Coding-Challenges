{
  "nbformat": 4,
  "nbformat_minor": 0,
  "metadata": {
    "colab": {
      "name": "04_Loop Tunnel.ipynb",
      "provenance": [],
      "collapsed_sections": []
    },
    "kernelspec": {
      "name": "python3",
      "display_name": "Python 3"
    },
    "language_info": {
      "name": "python"
    }
  },
  "cells": [
    {
      "cell_type": "markdown",
      "source": [
        "# Code Signal Loop Tunnel"
      ],
      "metadata": {
        "id": "eNLQI5OfZtWD"
      }
    },
    {
      "cell_type": "markdown",
      "source": [
        "## Least Factorial (25)\n",
        "Given an integer n, find the minimal k such that\n",
        "\n",
        "k = m! (where m! = 1 * 2 * ... * m) for some integer m;\n",
        "k >= n.\n",
        "In other words, find the smallest factorial which is not less than n.\n",
        "\n",
        "### Example\n",
        "\n",
        "For n = 17, the output should be\n",
        "solution(n) = 24.\n",
        "\n",
        "17 < 24 = 4! = 1 * 2 * 3 * 4, while 3! = 1 * 2 * 3 = 6 < 17)."
      ],
      "metadata": {
        "id": "NkYujpmUZwyx"
      }
    },
    {
      "cell_type": "code",
      "execution_count": null,
      "metadata": {
        "id": "7XgC2xktZrtn"
      },
      "outputs": [],
      "source": [
        "def leastFactorial(n):\n",
        "    k = 1\n",
        "    i = 2\n",
        "    while k<n:\n",
        "        k *= i\n",
        "        i += 1\n",
        "    return k"
      ]
    },
    {
      "cell_type": "markdown",
      "source": [
        "## Count Sum of Two Representations (26)\n",
        "Given integers n, l and r, find the number of ways to represent n as a sum of two integers A and B such that l ≤ A ≤ B ≤ r.\n",
        "\n",
        "### Example\n",
        "\n",
        "For n = 6, l = 2, and r = 4, the output should be\n",
        "solution(n, l, r) = 2.\n",
        "\n",
        "There are just two ways to write 6 as A + B, where 2 ≤ A ≤ B ≤ 4: 6 = 2 + 4 and 6 = 3 + 3."
      ],
      "metadata": {
        "id": "kbwIDbxdZ164"
      }
    },
    {
      "cell_type": "code",
      "source": [
        "def countSumofTwoRepresentations(n, l, r):\n",
        "    temp = 0\n",
        "    if l <= n//2 <= r:\n",
        "        if n%2 == 0:\n",
        "            return min([(n//2-l)+1,(r-n//2)+1])\n",
        "        else:\n",
        "            return min([(n//2-l),(r-n//2)])\n",
        "    else:\n",
        "        return 0"
      ],
      "metadata": {
        "id": "ngMUHVGtZ2Vw"
      },
      "execution_count": null,
      "outputs": []
    },
    {
      "cell_type": "markdown",
      "source": [
        "## Magical Well (27)\n",
        "You are standing at a magical well. It has two positive integers written on it: a and b. Each time you cast a magic marble into the well, it gives you a * b dollars and then both a and b increase by 1. You have n magic marbles. How much money will you make?\n",
        "\n",
        "### Example\n",
        "\n",
        "For a = 1, b = 2, and n = 2, the output should be\n",
        "solution(a, b, n) = 8.\n",
        "\n",
        "You will cast your first marble and get $2, after which the numbers will become 2 and 3. When you cast your second marble, the well will give you $6. Overall, you'll make $8. So, the output is 8."
      ],
      "metadata": {
        "id": "14aAcOwIZ23U"
      }
    },
    {
      "cell_type": "code",
      "source": [
        "def magicalWell(a, b, n):\n",
        "    cost = 0\n",
        "    for i in range(1,n+1):\n",
        "        cost += a*b\n",
        "        a += 1\n",
        "        b += 1\n",
        "    return cost"
      ],
      "metadata": {
        "id": "oekuT6_1Z3LQ"
      },
      "execution_count": null,
      "outputs": []
    },
    {
      "cell_type": "markdown",
      "source": [
        "## Lineup (28)\n",
        "To prepare his students for an upcoming game, the sports coach decides to try some new training drills. To begin with, he lines them up and starts with the following warm-up exercise: when the coach says 'L', he instructs the students to turn to the left. Alternatively, when he says 'R', they should turn to the right. Finally, when the coach says 'A', the students should turn around.\n",
        "\n",
        "Unfortunately some students (not all of them, but at least one) can't tell left from right, meaning they always turn right when they hear 'L' and left when they hear 'R'. The coach wants to know how many times the students end up facing the same direction.\n",
        "\n",
        "Given the list of commands the coach has given, count the number of such commands after which the students will be facing the same direction.\n",
        "\n",
        "### Example\n",
        "\n",
        "For commands = \"LLARL\", the output should be\n",
        "solution(commands) = 3.\n",
        "\n",
        "Let's say that there are 4 students, and the second one can't tell left from right. In this case, only after the second, third and fifth commands will the students face the same direction."
      ],
      "metadata": {
        "id": "pLeJJxz6Z3gm"
      }
    },
    {
      "cell_type": "code",
      "source": [
        "def lineup(commands):\n",
        "    size = len(commands)\n",
        "    deg = 0\n",
        "    temp = 0\n",
        "    for i in range(0,size):\n",
        "        if commands[i] == 'L':\n",
        "            deg += -90\n",
        "        elif commands[i] == 'R':\n",
        "            deg += 90\n",
        "        elif commands[i] == 'A':\n",
        "            deg += 180\n",
        "        if deg%180==0:\n",
        "            temp += 1\n",
        "            deg = 0\n",
        "    return temp"
      ],
      "metadata": {
        "id": "B8dvb3xzZ310"
      },
      "execution_count": null,
      "outputs": []
    },
    {
      "cell_type": "markdown",
      "source": [
        "## Addition Without Carrying (29)\n",
        "A little child is studying arithmetic. They have just learned how to add two integers, written one below another, column by column. But the child always forgets about the important part - carrying.\n",
        "\n",
        "Given two integers, your task is to find the result that the child will get.\n",
        "\n",
        "Note: The child had learned from this site, so feel free to check it out too if you are not familiar with column addition.\n",
        "\n",
        "### Example\n",
        "\n",
        "For param1 = 456 and param2 = 1734, the output should be\n",
        "solution(param1, param2) = 1180.\n",
        "\n",
        "\n",
        "\n",
        "```\n",
        "   456\n",
        "  1734\n",
        "+ ____\n",
        "  1180\n",
        "```\n",
        "\n",
        "\n",
        "The child performs the following operations from right to left:\n",
        "\n",
        "6 + 4 = 10 but the child forgets about carrying the 1 and just writes down the 0 in the last column\n",
        "5 + 3 = 8\n",
        "4 + 7 = 11 but the child forgets about the leading 1 and just writes down 1 under 4 and 7.\n",
        "There is no digit in the first number corresponding to the leading digit of the second one, so the child imagines that 0 is written before 456. Thus, they get 0 + 1 = 1."
      ],
      "metadata": {
        "id": "0mIu_4dBZ4QQ"
      }
    },
    {
      "cell_type": "code",
      "source": [
        "import math\n",
        "def additionWithoutCarrying(param1, param2):\n",
        "    res = 0\n",
        "    multiplier = 1\n",
        "    bit_sum = 0\n",
        "    while (param1 or param2) :\n",
        "        bit_sum = ((param1 % 10) +\n",
        "                   (param2 % 10))\n",
        "        bit_sum = bit_sum % 10\n",
        "        res = (bit_sum *\n",
        "               multiplier) + res\n",
        "        param1 = math.floor(param1 / 10)\n",
        "        param2 = math.floor(param2 / 10)\n",
        "        multiplier = multiplier * 10    \n",
        "    return res"
      ],
      "metadata": {
        "id": "b_7SnT7fZ4uo"
      },
      "execution_count": null,
      "outputs": []
    },
    {
      "cell_type": "markdown",
      "source": [
        "## Apple Boxes (30)\n",
        "You have k apple boxes full of apples. Each square box of size m contains m × m apples. You just noticed two interesting properties about the boxes:\n",
        "\n",
        "The smallest box is size 1, the next one is size 2,..., all the way up to size k.\n",
        "Boxes that have an odd size contain only yellow apples. Boxes that have an even size contain only red apples.\n",
        "Your task is to calculate the difference between the number of red apples and the number of yellow apples.\n",
        "\n",
        "### Example\n",
        "\n",
        "For k = 5, the output should be\n",
        "solution(k) = -15.\n",
        "\n",
        "There are 1 + 3 * 3 + 5 * 5 = 35 yellow apples and 2 * 2 + 4 * 4 = 20 red apples, making the answer 20 - 35 = -15."
      ],
      "metadata": {
        "id": "F-SJHz0vZ6io"
      }
    },
    {
      "cell_type": "code",
      "source": [
        "def appleBoxes(k):\n",
        "    red = 0\n",
        "    yellow = 0\n",
        "    for i in range(1,k+1):\n",
        "        if i%2==0:\n",
        "            red +=i*i\n",
        "        else:\n",
        "            yellow +=i*i\n",
        "            \n",
        "    return red-yellow"
      ],
      "metadata": {
        "id": "tTdIOykFZ63F"
      },
      "execution_count": null,
      "outputs": []
    },
    {
      "cell_type": "markdown",
      "source": [
        "## Increase Number Roundness (31)\n",
        "\n",
        "Define an integer's roundness as the number of trailing zeroes in it.\n",
        "\n",
        "Given an integer n, check if it's possible to increase n's roundness by swapping some pair of its digits.\n",
        "\n",
        "### Example\n",
        "\n",
        "For n = 902200100, the output should be\n",
        "solution(n) = true.\n",
        "\n",
        "One of the possible ways to increase roundness of n is to swap digit 1 with digit 0 preceding it: roundness of 902201000 is 3, and roundness of n is 2.\n",
        "\n",
        "For instance, one may swap the leftmost 0 with 1.\n",
        "\n",
        "For n = 11000, the output should be\n",
        "solution(n) = false.\n",
        "\n",
        "Roundness of n is 3, and there is no way to increase it."
      ],
      "metadata": {
        "id": "lraKkzAKZ7bU"
      }
    },
    {
      "cell_type": "code",
      "source": [
        "def increaseNumberRoundness(n):\n",
        "    while n%10==0:\n",
        "        n //= 10\n",
        "    \n",
        "    temp = 1\n",
        "    while n:\n",
        "        temp *= n%10\n",
        "        n//=10\n",
        "    \n",
        "    if temp ==0:\n",
        "        return True\n",
        "    else:\n",
        "        return False"
      ],
      "metadata": {
        "id": "-kFsq-idZ7w0"
      },
      "execution_count": null,
      "outputs": []
    },
    {
      "cell_type": "markdown",
      "source": [
        "## Rounders (32)\n",
        "We want to turn the given integer into a number that has only one non-zero digit using a tail rounding approach. This means that at each step we take the last non 0 digit of the number and round it to 0 or to 10. If it's less than 5 we round it to 0 if it's larger than or equal to 5 we round it to 10 (rounding to 10 means increasing the next significant digit by 1). The process stops immediately once there is only one non-zero digit left.\n",
        "\n",
        "### Example\n",
        "\n",
        "For n = 15, the output should be\n",
        "solution(n) = 20;\n",
        "\n",
        "For n = 1234, the output should be\n",
        "solution(n) = 1000.\n",
        "\n",
        "1234 -> 1230 -> 1200 -> 1000.\n",
        "\n",
        "For n = 1445, the output should be\n",
        "solution(n) = 2000.\n",
        "\n",
        "1445 -> 1450 -> 1500 -> 2000."
      ],
      "metadata": {
        "id": "h06E5sc1Z85S"
      }
    },
    {
      "cell_type": "code",
      "source": [
        "def rounders(n):\n",
        "    digit = 1\n",
        "    if n < 10:\n",
        "        return n\n",
        "    if n%pow(10,digit)>=5:\n",
        "        n += pow(10,digit)\n",
        "    n -= (n%pow(10,digit))\n",
        "    digit += 1\n",
        "    \n",
        "    while n>pow(10,digit):\n",
        "        if (n%pow(10,digit)) >= 5*pow(10,digit-1):\n",
        "            n += pow(10,digit)\n",
        "        if n>=pow(10,digit):\n",
        "            n -= (n%pow(10,digit))\n",
        "        digit += 1\n",
        "        \n",
        "    return n"
      ],
      "metadata": {
        "id": "OLFSwxBfZ9Po"
      },
      "execution_count": null,
      "outputs": []
    },
    {
      "cell_type": "markdown",
      "source": [
        "## Candles (33)\n",
        "When a candle finishes burning it leaves a leftover. makeNew leftovers can be combined to make a new candle, which, when burning down, will in turn leave another leftover.\n",
        "\n",
        "You have solutionNumber solution in your possession. What's the total number of solution you can burn, assuming that you create new solution as soon as you have enough leftovers?\n",
        "\n",
        "### Example\n",
        "\n",
        "For solutionNumber = 5 and makeNew = 2, the output should be\n",
        "solution(solutionNumber, makeNew) = 9.\n",
        "\n",
        "Here is what you can do to burn 9 solution:\n",
        "\n",
        "burn 5 solution, obtain 5 leftovers;\n",
        "create 2 more solution, using 4 leftovers (1 leftover remains);\n",
        "burn 2 solution, end up with 3 leftovers;\n",
        "create another candle using 2 leftovers (1 leftover remains);\n",
        "burn the created candle, which gives another leftover (2 leftovers in total);\n",
        "create a candle from the remaining leftovers;\n",
        "burn the last candle.\n",
        "Thus, you can burn 5 + 2 + 1 + 1 = 9 solution, which is the answer."
      ],
      "metadata": {
        "id": "uulCMcnscjfo"
      }
    },
    {
      "cell_type": "code",
      "source": [
        "def candles(candles, makeNew):\n",
        "    total = 0\n",
        "    leftover=0\n",
        "    while candles:\n",
        "        total += candles\n",
        "        leftover += candles\n",
        "        candles = leftover//makeNew\n",
        "        leftover -= candles*makeNew\n",
        "    return total"
      ],
      "metadata": {
        "id": "B7vlh2RvcmYk"
      },
      "execution_count": null,
      "outputs": []
    },
    {
      "cell_type": "markdown",
      "source": [
        "## Count Black Cells (34)\n",
        "Imagine a white rectangular grid of n rows and m columns divided into two parts by a diagonal line running from the upper left to the lower right corner. Now let's paint the grid in two colors according to the following rules:\n",
        "\n",
        "A cell is painted black if it has at least one point in common with the diagonal;\n",
        "Otherwise, a cell is painted white.\n",
        "Count the number of cells painted black.\n",
        "\n",
        "### Example\n",
        "\n",
        "For n = 3 and m = 4, the output should be\n",
        "solution(n, m) = 6.\n",
        "\n",
        "There are 6 cells that have at least one common point with the diagonal and therefore are painted black.\n"
      ],
      "metadata": {
        "id": "GqZ-Jvpvcm1N"
      }
    },
    {
      "cell_type": "code",
      "source": [
        "def gcd(a, b):\n",
        "    while b:\n",
        "        a, b = b, a%b\n",
        "    return a\n",
        "\n",
        "def countBlackCells(n, m):\n",
        "    return n + m + gcd(n,m) - 2"
      ],
      "metadata": {
        "id": "-TGSYOWFmMBQ"
      },
      "execution_count": null,
      "outputs": []
    }
  ]
}