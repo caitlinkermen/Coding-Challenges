{
  "nbformat": 4,
  "nbformat_minor": 0,
  "metadata": {
    "colab": {
      "name": "12_Land of Logic.ipynb",
      "provenance": []
    },
    "kernelspec": {
      "name": "python3",
      "display_name": "Python 3"
    },
    "language_info": {
      "name": "python"
    }
  },
  "cells": [
    {
      "cell_type": "markdown",
      "source": [
        "# Code Signal Land of Logic"
      ],
      "metadata": {
        "id": "eNLQI5OfZtWD"
      }
    },
    {
      "cell_type": "markdown",
      "source": [
        "## Longest Word (52)\n",
        "Define a word as a sequence of consecutive English letters. Find the longest word from the given string.\n",
        "\n",
        "### Example\n",
        "\n",
        "For text = \"Ready, steady, go!\", the output should be\n",
        "solution(text) = \"steady\"."
      ],
      "metadata": {
        "id": "NkYujpmUZwyx"
      }
    },
    {
      "cell_type": "code",
      "execution_count": null,
      "metadata": {
        "id": "7XgC2xktZrtn"
      },
      "outputs": [],
      "source": [
        "def longestWord(text):\n",
        "    terms = []\n",
        "    term = \"\"\n",
        "    for c in text:\n",
        "        if c.isalpha():\n",
        "            term += c\n",
        "        else:\n",
        "            if term != \"\": \n",
        "                terms.append(term)\n",
        "            term = \"\"\n",
        "    if term != \"\": \n",
        "        terms.append(term)\n",
        "    length = max(len(term) for term in terms)\n",
        "    for term in terms:\n",
        "        if len(term) == length:\n",
        "            return term"
      ]
    },
    {
      "cell_type": "markdown",
      "source": [
        "## Valid Time (53)\n",
        "Check if the given string is a correct time representation of the 24-hour clock.\n",
        "\n",
        "### Example\n",
        "\n",
        "For time = \"13:58\", the output should be\n",
        "solution(time) = true;\n",
        "For time = \"25:51\", the output should be\n",
        "solution(time) = false;\n",
        "For time = \"02:76\", the output should be\n",
        "solution(time) = false."
      ],
      "metadata": {
        "id": "kbwIDbxdZ164"
      }
    },
    {
      "cell_type": "code",
      "source": [
        "def validTime(time):\n",
        "    h, m = map(int, time.split(':'))\n",
        "    return 0 <= h <= 23 and 0 <= m <= 59"
      ],
      "metadata": {
        "id": "ngMUHVGtZ2Vw"
      },
      "execution_count": null,
      "outputs": []
    },
    {
      "cell_type": "markdown",
      "source": [
        "## Sum up Numbers (54)\n",
        "CodeMaster has just returned from shopping. He scanned the check of the items he bought and gave the resulting string to Ratiorg to figure out the total number of purchased items. Since Ratiorg is a bot he is definitely going to automate it, so he needs a program that sums up all the numbers which appear in the given input.\n",
        "\n",
        "Help Ratiorg by writing a function that returns the sum of numbers that appear in the given inputString.\n",
        "\n",
        "### Example\n",
        "\n",
        "For inputString = \"2 apples, 12 oranges\", the output should be\n",
        "solution(inputString) = 14."
      ],
      "metadata": {
        "id": "14aAcOwIZ23U"
      }
    },
    {
      "cell_type": "code",
      "source": [
        "def sumUpNumbers(inputString):\n",
        "    numbers = []\n",
        "    number = \"\"\n",
        "    for c in inputString:\n",
        "        if not c.isdigit() and number != \"\":\n",
        "            numbers.append(int(number))\n",
        "            number = \"\"\n",
        "        elif c.isdigit():\n",
        "            number += c\n",
        "    if number != \"\": numbers.append(int(number))\n",
        "    return sum(numbers)"
      ],
      "metadata": {
        "id": "oekuT6_1Z3LQ"
      },
      "execution_count": null,
      "outputs": []
    },
    {
      "cell_type": "markdown",
      "source": [
        "## Different Squares (55)\n",
        "Given a rectangular matrix containing only digits, calculate the number of different 2 × 2 squares in it.\n",
        "\n",
        "Example\n",
        "\n",
        "For\n",
        "\n",
        "\n",
        "\n",
        "```\n",
        "matrix = [[1, 2, 1],\n",
        "          [2, 2, 2],\n",
        "          [2, 2, 2],\n",
        "          [1, 2, 3],\n",
        "          [2, 2, 1]]\n",
        "```\n",
        "\n",
        "\n",
        "the output should be\n",
        "solution(matrix) = 6.\n",
        "\n",
        "Here are all 6 different 2 × 2 squares:\n",
        "\n",
        "```\n",
        "[1 2,\n",
        "2 2]\n",
        "\n",
        "[2 1,\n",
        "2 2]\n",
        "\n",
        "[2 2,\n",
        "2 2]\n",
        "\n",
        "[2 2,\n",
        "1 2]\n",
        "\n",
        "[2 2,\n",
        "2 3]\n",
        "\n",
        "[2 3,\n",
        "2 1]\n",
        "```"
      ],
      "metadata": {
        "id": "pLeJJxz6Z3gm"
      }
    },
    {
      "cell_type": "code",
      "source": [
        "def differentSquares(matrix):\n",
        "    squares = set()\n",
        "    for i in range(1, len(matrix)):\n",
        "        for j in range(1, len(matrix[i])):\n",
        "            square = (matrix[i-1][j-1], matrix[i-1][j], matrix[i][j-1], matrix[i][j])\n",
        "            squares.add(square)\n",
        "    return len(squares)"
      ],
      "metadata": {
        "id": "B8dvb3xzZ310"
      },
      "execution_count": null,
      "outputs": []
    },
    {
      "cell_type": "markdown",
      "source": [
        "## Digits Product (56)\n",
        "Given an integer product, find the smallest positive (i.e. greater than 0) integer the product of whose digits is equal to product. If there is no such integer, return -1 instead.\n",
        "\n",
        "### Example\n",
        "\n",
        "For product = 12, the output should be\n",
        "solution(product) = 26;\n",
        "For product = 19, the output should be\n",
        "solution(product) = -1."
      ],
      "metadata": {
        "id": "0mIu_4dBZ4QQ"
      }
    },
    {
      "cell_type": "code",
      "source": [
        "def digitsProduct(product):\n",
        "    if product == 0: return 10\n",
        "    if 1 <= product <= 9: return product\n",
        "    result = \"\"\n",
        "    i = 9\n",
        "    while (product != 0):\n",
        "        if product % i == 0:\n",
        "            product //= i\n",
        "            result = str(i) + result\n",
        "            continue\n",
        "        i -= 1\n",
        "        if i == 1:\n",
        "            if product > 10: return -1\n",
        "            break\n",
        "    if product > 9 and result == '': return -1\n",
        "    return int(result)"
      ],
      "metadata": {
        "id": "b_7SnT7fZ4uo"
      },
      "execution_count": null,
      "outputs": []
    },
    {
      "cell_type": "markdown",
      "source": [
        "## File Naming (57)\n",
        "\n",
        "You are given an array of desired filenames in the order of their creation. Since two files cannot have equal names, the one which comes later will have an addition to its name in a form of (k), where k is the smallest positive integer such that the obtained name is not used yet.\n",
        "\n",
        "Return an array of names that will be given to the files.\n",
        "\n",
        "### Example\n",
        "\n",
        "For names = [\"doc\", \"doc\", \"image\", \"doc(1)\", \"doc\"], the output should be\n",
        "solution(names) = [\"doc\", \"doc(1)\", \"image\", \"doc(1)(1)\", \"doc(2)\"]."
      ],
      "metadata": {
        "id": "F-SJHz0vZ6io"
      }
    },
    {
      "cell_type": "code",
      "source": [
        "def fileNaming(names):\n",
        "    for i in range(len(names)):\n",
        "        if names[i] in names[:i]:\n",
        "            o = 1\n",
        "            while names[i] + \"(\" + str(o) + \")\" in names[:i]:\n",
        "                o += 1\n",
        "            names[i] += \"(\" + str(o) + \")\"\n",
        "    return names"
      ],
      "metadata": {
        "id": "tTdIOykFZ63F"
      },
      "execution_count": null,
      "outputs": []
    },
    {
      "cell_type": "markdown",
      "source": [
        "## Message From Binary Code (58)\n",
        "You are taking part in an Escape Room challenge designed specifically for programmers. In your efforts to find a clue, you've found a binary code written on the wall behind a vase, and realized that it must be an encrypted message. After some thought, your first guess is that each consecutive 8 bits of the code stand for the character with the corresponding extended ASCII code.\n",
        "\n",
        "Assuming that your hunch is correct, decode the message.\n",
        "\n",
        "### Example\n",
        "\n",
        "For code = \"010010000110010101101100011011000110111100100001\", the output should be\n",
        "solution(code) = \"Hello!\".\n",
        "\n",
        "The first 8 characters of the code are 01001000, which is 72 in the binary numeral system. 72 stands for H in the ASCII-table, so the first letter is H.\n",
        "Other letters can be obtained in the same manner."
      ],
      "metadata": {
        "id": "lraKkzAKZ7bU"
      }
    },
    {
      "cell_type": "code",
      "source": [
        "def messageFromBinaryCode(code):\n",
        "    return \"\".join([chr(int(code[i:i+8], 2)) for i in range(0, len(code), 8)])"
      ],
      "metadata": {
        "id": "-kFsq-idZ7w0"
      },
      "execution_count": null,
      "outputs": []
    },
    {
      "cell_type": "markdown",
      "source": [
        "## Spiral Numbers (59)\n",
        "Construct a square matrix with a size N × N containing integers from 1 to N * N in a spiral order, starting from top-left and in clockwise direction.\n",
        "\n",
        "### Example\n",
        "\n",
        "For n = 3, the output should be\n",
        "\n",
        "\n",
        "```\n",
        "solution(n) = [[1, 2, 3],\n",
        "               [8, 9, 4],\n",
        "               [7, 6, 5]]\n",
        "```\n",
        "\n"
      ],
      "metadata": {
        "id": "h06E5sc1Z85S"
      }
    },
    {
      "cell_type": "code",
      "source": [
        "def spiralNumbers(n):\n",
        "    matrix = [[0] * n for i in range(n) ]\n",
        "    dx, dy = [0, 1, 0, -1],[1, 0, -1, 0]\n",
        "    x, y, c = 0, -1, 1\n",
        "    for i in range(n + n - 1):\n",
        "        for j in range((n + n - i) // 2):\n",
        "            x += dx[i % 4]\n",
        "            y += dy[i % 4]\n",
        "            matrix[x][y] = c\n",
        "            c += 1\n",
        "    return matrix"
      ],
      "metadata": {
        "id": "OLFSwxBfZ9Po"
      },
      "execution_count": null,
      "outputs": []
    },
    {
      "cell_type": "markdown",
      "source": [
        "## Sudoku (60)\n",
        "Sudoku is a number-placement puzzle. The objective is to fill a 9 × 9 grid with digits so that each column, each row, and each of the nine 3 × 3 sub-grids that compose the grid contains all of the digits from 1 to 9.\n",
        "\n",
        "This algorithm should check if the given grid of numbers represents a correct solution to Sudoku.\n",
        "\n",
        "### Example\n",
        "For\n",
        "```\n",
        "grid = [[1, 3, 2, 5, 4, 6, 9, 8, 7],\n",
        "        [4, 6, 5, 8, 7, 9, 3, 2, 1],\n",
        "        [7, 9, 8, 2, 1, 3, 6, 5, 4],\n",
        "        [9, 2, 1, 4, 3, 5, 8, 7, 6],\n",
        "        [3, 5, 4, 7, 6, 8, 2, 1, 9],\n",
        "        [6, 8, 7, 1, 9, 2, 5, 4, 3],\n",
        "        [5, 7, 6, 9, 8, 1, 4, 3, 2],\n",
        "        [2, 4, 3, 6, 5, 7, 1, 9, 8],\n",
        "        [8, 1, 9, 3, 2, 4, 7, 6, 5]]\n",
        "```\n",
        "the output should be\n",
        "solution(grid) = true\n"
      ],
      "metadata": {
        "id": "dtLXY3fnlL0z"
      }
    },
    {
      "cell_type": "code",
      "source": [
        "def sudoku(grid):\n",
        "    def r(i):\n",
        "        return sorted(grid[i]) != list(range(1,10))\n",
        "    \n",
        "    def c(i):\n",
        "        return sorted([grid[x][i] for x in range(9)]) != list(range(1,10))\n",
        "    \n",
        "    def g(x,y):\n",
        "        return sorted([grid[i][j] for i in range(x,x+3) for j in range(y,y+3)]) != list(range(1,10))\n",
        "\n",
        "    for i in range(9):\n",
        "        if r(i) or c(i):\n",
        "            return False\n",
        "    for i in range(0,9,3):\n",
        "        for j in range(0,9,3):\n",
        "            if g(i,j):\n",
        "                return False\n",
        "    return True"
      ],
      "metadata": {
        "id": "GfSno_TdlMLR"
      },
      "execution_count": null,
      "outputs": []
    }
  ]
}