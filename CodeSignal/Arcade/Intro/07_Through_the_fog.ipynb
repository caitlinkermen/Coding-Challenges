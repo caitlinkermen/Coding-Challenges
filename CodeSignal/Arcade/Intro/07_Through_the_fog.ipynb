{
  "nbformat": 4,
  "nbformat_minor": 0,
  "metadata": {
    "colab": {
      "name": "7_Through the fog.ipynb",
      "provenance": []
    },
    "kernelspec": {
      "name": "python3",
      "display_name": "Python 3"
    },
    "language_info": {
      "name": "python"
    }
  },
  "cells": [
    {
      "cell_type": "markdown",
      "source": [
        "# Code Signal Through the fog"
      ],
      "metadata": {
        "id": "eNLQI5OfZtWD"
      }
    },
    {
      "cell_type": "markdown",
      "source": [
        "## Circle of Numbers (30)\n",
        "Consider integer numbers from 0 to n - 1 written down along the circle in such a way that the distance between any two neighboring numbers is equal (note that 0 and n - 1 are neighboring, too).\n",
        "\n",
        "Given n and firstNumber, find the number which is written in the radially opposite position to firstNumber.\n",
        "\n",
        "### Example\n",
        "\n",
        "For n = 10 and firstNumber = 2, the output should be\n",
        "solution(n, firstNumber) = 7."
      ],
      "metadata": {
        "id": "0mIu_4dBZ4QQ"
      }
    },
    {
      "cell_type": "code",
      "source": [
        "def circleOfNumbers(n, firstNumber):\n",
        "    ## Given a circle of evenly spaced numbers n to n - 1\n",
        "    ## Find the number radially oposite of the firstNumber\n",
        "    return (firstNumber + n / 2)%n"
      ],
      "metadata": {
        "id": "b_7SnT7fZ4uo"
      },
      "execution_count": null,
      "outputs": []
    },
    {
      "cell_type": "markdown",
      "source": [
        "## Deposit Profit (31)\n",
        "You have deposited a specific amount of money into your bank account. Each year your balance increases at the same growth rate. With the assumption that you don't make any additional deposits, find out how long it would take for your balance to pass a specific threshold.\n",
        "\n",
        "### Example\n",
        "\n",
        "For deposit = 100, rate = 20, and threshold = 170, the output should be\n",
        "solution(deposit, rate, threshold) = 3.\n",
        "\n",
        "Each year the amount of money in your account increases by 20%. So throughout the years, your balance would be:\n",
        "\n",
        "year 0: 100;\n",
        "year 1: 120;\n",
        "year 2: 144;\n",
        "year 3: 172.8.\n",
        "Thus, it will take 3 years for your balance to pass the threshold, so the answer is 3."
      ],
      "metadata": {
        "id": "F-SJHz0vZ6io"
      }
    },
    {
      "cell_type": "code",
      "source": [
        "def depositProfit(deposit, rate, threshold):\n",
        "    ## count number of years to meet or exceed threshold\n",
        "    count = 0\n",
        "    while deposit < threshold:\n",
        "        deposit += deposit*(rate/100)\n",
        "        count += 1\n",
        "    return count"
      ],
      "metadata": {
        "id": "tTdIOykFZ63F"
      },
      "execution_count": null,
      "outputs": []
    },
    {
      "cell_type": "markdown",
      "source": [
        "## Absolute Value Sum Minimization (32)\n",
        "Given a sorted array of integers a, your task is to determine which element of a is closest to all other values of a. In other words, find the element x in a, which minimizes the following sum:\n",
        "\n",
        "abs(a[0] - x) + abs(a[1] - x) + ... + abs(a[a.length - 1] - x)\n",
        "(where abs denotes the absolute value)\n",
        "\n",
        "If there are several possible answers, output the smallest one.\n",
        "\n",
        "### Example\n",
        "\n",
        "For a = [2, 4, 7], the output should be solution(a) = 4.\n",
        "\n",
        "for x = 2, the value will be abs(2 - 2) + abs(4 - 2) + abs(7 - 2) = 7.\n",
        "for x = 4, the value will be abs(2 - 4) + abs(4 - 4) + abs(7 - 4) = 5.\n",
        "for x = 7, the value will be abs(2 - 7) + abs(4 - 7) + abs(7 - 7) = 8.\n",
        "The lowest possible value is when x = 4, so the answer is 4.\n",
        "\n",
        "For a = [2, 3], the output should be solution(a) = 2.\n",
        "\n",
        "for x = 2, the value will be abs(2 - 2) + abs(3 - 2) = 1.\n",
        "for x = 3, the value will be abs(2 - 3) + abs(3 - 3) = 1.\n",
        "Because there is a tie, the smallest x between x = 2 and x = 3 is the answer."
      ],
      "metadata": {
        "id": "lraKkzAKZ7bU"
      }
    },
    {
      "cell_type": "code",
      "source": [
        "def absoluteValuesSumMinimization(a):\n",
        "    # return number from a given array that is closest to the other numbers in the array\n",
        "    return a[(len(a)-1)//2]"
      ],
      "metadata": {
        "id": "-kFsq-idZ7w0"
      },
      "execution_count": null,
      "outputs": []
    },
    {
      "cell_type": "markdown",
      "source": [
        "## Strings Rearrangement (33)\n",
        "Given an array of equal-length strings, you'd like to know if it's possible to rearrange the order of the elements in such a way that each consecutive pair of strings differ by exactly one character. Return true if it's possible, and false if not.\n",
        "\n",
        "Note: You're only rearranging the order of the strings, not the order of the letters within the strings!\n",
        "\n",
        "### Example\n",
        "\n",
        "For inputArray = [\"aba\", \"bbb\", \"bab\"], the output should be\n",
        "solution(inputArray) = false.\n",
        "\n",
        "There are 6 possible arrangements for these strings:\n",
        "\n",
        "[\"aba\", \"bbb\", \"bab\"]\n",
        "[\"aba\", \"bab\", \"bbb\"]\n",
        "[\"bbb\", \"aba\", \"bab\"]\n",
        "[\"bbb\", \"bab\", \"aba\"]\n",
        "[\"bab\", \"bbb\", \"aba\"]\n",
        "[\"bab\", \"aba\", \"bbb\"]\n",
        "None of these satisfy the condition of consecutive strings differing by 1 character, so the answer is false.\n",
        "\n",
        "For inputArray = [\"ab\", \"bb\", \"aa\"], the output should be\n",
        "solution(inputArray) = true.\n",
        "\n",
        "It's possible to arrange these strings in a way that each consecutive pair of strings differ by 1 character (eg: \"aa\", \"ab\", \"bb\" or \"bb\", \"ab\", \"aa\"), so return true."
      ],
      "metadata": {
        "id": "h06E5sc1Z85S"
      }
    },
    {
      "cell_type": "code",
      "source": [
        "import itertools\n",
        "def stringsRearrangement(inputArray):\n",
        "    permutations = itertools.permutations(inputArray)\n",
        "    for array in permutations:\n",
        "        if testArrangement(array):\n",
        "            return True\n",
        "    return False\n",
        "def testArrangement(array):\n",
        "    for i in range(len(array) - 1):\n",
        "        if sum([a != b for a, b in zip(array[i], array[i + 1])]) != 1:\n",
        "            return False\n",
        "    return True"
      ],
      "metadata": {
        "id": "OLFSwxBfZ9Po"
      },
      "execution_count": null,
      "outputs": []
    }
  ]
}