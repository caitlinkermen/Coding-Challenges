{
  "nbformat": 4,
  "nbformat_minor": 0,
  "metadata": {
    "colab": {
      "name": "6_Rains of Reason.ipynb",
      "provenance": []
    },
    "kernelspec": {
      "name": "python3",
      "display_name": "Python 3"
    },
    "language_info": {
      "name": "python"
    }
  },
  "cells": [
    {
      "cell_type": "markdown",
      "source": [
        "# Code Signal Rains of Reason"
      ],
      "metadata": {
        "id": "eNLQI5OfZtWD"
      }
    },
    {
      "cell_type": "markdown",
      "source": [
        "## Array Replace (25)\n",
        "Given an array of integers, replace all the occurrences of elemToReplace with substitutionElem.\n",
        "\n",
        "### Example\n",
        "\n",
        "For inputArray = [1, 2, 1], elemToReplace = 1, and substitutionElem = 3, the output should be\n",
        "solution(inputArray, elemToReplace, substitutionElem) = [3, 2, 3]."
      ],
      "metadata": {
        "id": "NkYujpmUZwyx"
      }
    },
    {
      "cell_type": "code",
      "execution_count": null,
      "metadata": {
        "id": "7XgC2xktZrtn"
      },
      "outputs": [],
      "source": [
        "def arrayReplace(inputArray, elemToReplace, substitutionElem):\n",
        "    l = []\n",
        "    for i in range(len(inputArray)):\n",
        "        if inputArray[i] == elemToReplace:\n",
        "            l.append(substitutionElem)\n",
        "        else: \n",
        "            l.append(inputArray[i])\n",
        "    return l"
      ]
    },
    {
      "cell_type": "markdown",
      "source": [
        "## Even Digits Only (26)\n",
        "Check if all digits of the given integer are even.\n",
        "\n",
        "### Example\n",
        "\n",
        "For n = 248622, the output should be\n",
        "solution(n) = true;\n",
        "For n = 642386, the output should be\n",
        "solution(n) = false."
      ],
      "metadata": {
        "id": "kbwIDbxdZ164"
      }
    },
    {
      "cell_type": "code",
      "source": [
        "def evenDigitsOnly(n):\n",
        "    ## check if all digits in a number are even\n",
        "    x = [int(a) for a in str(n)]\n",
        "    t = 0\n",
        "    for i in range(len(x)):\n",
        "        if x[i] % 2 != 0:\n",
        "            t = (t + 1)\n",
        "        else:\n",
        "            t = t\n",
        "    if t == 0: return True; \n",
        "    else: return False"
      ],
      "metadata": {
        "id": "ngMUHVGtZ2Vw"
      },
      "execution_count": null,
      "outputs": []
    },
    {
      "cell_type": "markdown",
      "source": [
        "## Variable Name (27)\n",
        "Correct variable names consist only of English letters, digits and underscores and they can't start with a digit.\n",
        "\n",
        "Check if the given string is a correct variable name.\n",
        "\n",
        "### Example\n",
        "\n",
        "For name = \"var_1__Int\", the output should be\n",
        "solution(name) = true;\n",
        "For name = \"qq-q\", the output should be\n",
        "solution(name) = false;\n",
        "For name = \"2w2\", the output should be\n",
        "solution(name) = false."
      ],
      "metadata": {
        "id": "14aAcOwIZ23U"
      }
    },
    {
      "cell_type": "code",
      "source": [
        "import string\n",
        "def variableName(name):\n",
        "    allowed = set(string.ascii_letters + string.digits + '_')\n",
        "    return not name[0].isdigit() and all(char in allowed for char in name)"
      ],
      "metadata": {
        "id": "oekuT6_1Z3LQ"
      },
      "execution_count": null,
      "outputs": []
    },
    {
      "cell_type": "markdown",
      "source": [
        "## Alphabetic Shift (28)\n",
        "Given a string, your task is to replace each of its characters by the next one in the English alphabet; i.e. replace a with b, replace b with c, etc (z would be replaced by a).\n",
        "\n",
        "### Example\n",
        "\n",
        "For inputString = \"crazy\", the output should be solution(inputString) = \"dsbaz\"."
      ],
      "metadata": {
        "id": "pLeJJxz6Z3gm"
      }
    },
    {
      "cell_type": "code",
      "source": [
        "import string\n",
        "def alphabeticShift(inputString):\n",
        "    word = []\n",
        "    reg_alpha = string.ascii_letters\n",
        "    for a in inputString:\n",
        "        word.append(reg_alpha[reg_alpha.find(a)+1])\n",
        "    return ''.join(word).lower()"
      ],
      "metadata": {
        "id": "B8dvb3xzZ310"
      },
      "execution_count": null,
      "outputs": []
    },
    {
      "cell_type": "markdown",
      "source": [
        "## Chess Board Cell Color (29)\n",
        "Given two cells on the standard chess board, determine whether they have the same color or not.\n",
        "\n",
        "### Example\n",
        "\n",
        "For cell1 = \"A1\" and cell2 = \"C3\", the output should be\n",
        "solution(cell1, cell2) = true."
      ],
      "metadata": {
        "id": "0mIu_4dBZ4QQ"
      }
    },
    {
      "cell_type": "code",
      "source": [
        "def chessBoardCellColor(cell1, cell2):\n",
        "    odd = [\"1\",\"3\",\"5\",\"7\"]\n",
        "    even = [\"2\",\"4\",\"6\",\"8\"]\n",
        "    col1 = [\"A\",\"C\",\"E\",\"G\"]\n",
        "    col2 = [\"B\",\"D\",\"F\",\"H\"]\n",
        "    ## white = col1 even, col2 odd\n",
        "    ## black = col1 odd, col2 even\n",
        "    white = []\n",
        "    black = []\n",
        "    index = [0,1,2,3]\n",
        "    for num in index:\n",
        "        for i in range(len(odd)):\n",
        "            s = \"\".join((col1[i],odd[num]))\n",
        "            black.append(s)\n",
        "        for i in range(len(even)):\n",
        "            s = \"\".join((col2[i],even[num]))\n",
        "            black.append(s)\n",
        "        for i in range(len(even)):\n",
        "            s = \"\".join((col1[i],even[num]))\n",
        "            white.append(s)\n",
        "        for i in range(len(odd)):\n",
        "            s = \"\".join((col2[i],odd[num]))\n",
        "            white.append(s)\n",
        "    if cell1 in white and cell2 in white:\n",
        "        return True\n",
        "    elif cell1 in black and cell2 in black:\n",
        "        return True\n",
        "    else:\n",
        "        return False"
      ],
      "metadata": {
        "id": "b_7SnT7fZ4uo"
      },
      "execution_count": null,
      "outputs": []
    }
  ]
}