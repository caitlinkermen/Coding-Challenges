{
  "nbformat": 4,
  "nbformat_minor": 0,
  "metadata": {
    "colab": {
      "name": "11_Rainbow of Clarity.ipynb",
      "provenance": []
    },
    "kernelspec": {
      "name": "python3",
      "display_name": "Python 3"
    },
    "language_info": {
      "name": "python"
    }
  },
  "cells": [
    {
      "cell_type": "markdown",
      "source": [
        "# Code Signal Rainbow of Clarity"
      ],
      "metadata": {
        "id": "eNLQI5OfZtWD"
      }
    },
    {
      "cell_type": "markdown",
      "source": [
        "## Is Digit (48)\n",
        "Determine if the given character is a digit or not.\n",
        "\n",
        "### Example\n",
        "\n",
        "For symbol = '0', the output should be\n",
        "solution(symbol) = true;\n",
        "For symbol = '-', the output should be\n",
        "solution(symbol) = false."
      ],
      "metadata": {
        "id": "0mIu_4dBZ4QQ"
      }
    },
    {
      "cell_type": "code",
      "source": [
        "def isDigit(symbol):\n",
        "    return symbol.isdigit()"
      ],
      "metadata": {
        "id": "b_7SnT7fZ4uo"
      },
      "execution_count": null,
      "outputs": []
    },
    {
      "cell_type": "markdown",
      "source": [
        "## Line Encoding (49)\n",
        "Given a string, return its encoding defined as follows:\n",
        "\n",
        "First, the string is divided into the least possible number of disjoint substrings consisting of identical characters\n",
        "for example, \"aabbbc\" is divided into [\"aa\", \"bbb\", \"c\"]\n",
        "Next, each substring with length greater than one is replaced with a concatenation of its length and the repeating character\n",
        "for example, substring \"bbb\" is replaced by \"3b\"\n",
        "Finally, all the new strings are concatenated together in the same order and a new string is returned.\n",
        "### Example\n",
        "\n",
        "For s = \"aabbbc\", the output should be\n",
        "solution(s) = \"2a3bc\"."
      ],
      "metadata": {
        "id": "F-SJHz0vZ6io"
      }
    },
    {
      "cell_type": "code",
      "source": [
        "def lineEncoding(s):\n",
        "    sample = s[0]\n",
        "    counter = 1\n",
        "    result = \"\"\n",
        "    for i in range(1, len(s)):\n",
        "        if s[i] == sample:\n",
        "            counter += 1\n",
        "        elif counter == 1:\n",
        "            result += sample\n",
        "        else:\n",
        "            result += str(counter) + sample\n",
        "            counter = 1\n",
        "        sample = s[i]\n",
        "    if counter == 1:\n",
        "        result += sample\n",
        "    else:\n",
        "        result += str(counter) + sample\n",
        "    return result"
      ],
      "metadata": {
        "id": "tTdIOykFZ63F"
      },
      "execution_count": null,
      "outputs": []
    },
    {
      "cell_type": "markdown",
      "source": [
        "## Chess Knight (50)\n",
        "Given a position of a knight on the standard chessboard, find the number of different moves the knight can perform.\n",
        "\n",
        "The knight can move to a square that is two squares horizontally and one square vertically, or two squares vertically and one square horizontally away from it. The complete move therefore looks like the letter L. Check out the image below to see all valid moves for a knight piece that is placed on one of the central squares.\n",
        "\n",
        "Example\n",
        "\n",
        "For cell = \"a1\", the output should be\n",
        "solution(cell) = 2.\n",
        "\n",
        "For cell = \"c2\", the output should be\n",
        "solution(cell) = 6."
      ],
      "metadata": {
        "id": "lraKkzAKZ7bU"
      }
    },
    {
      "cell_type": "code",
      "source": [
        "def chessKnight(cell):\n",
        "    counter = 0\n",
        "    for i in range(-2, 3):\n",
        "        if i == 0: continue\n",
        "        x = ord(cell[0])\n",
        "        y = int(cell[1])\n",
        "        if i % 2 == 0:\n",
        "            for j in range(-1,2,1):\n",
        "                if j == 0: continue\n",
        "                xMove = x + i\n",
        "                yMove = y + j\n",
        "                counter += checkMove(xMove, yMove)\n",
        "        else:\n",
        "            for j in range(-2,3,2):\n",
        "                if j == 0: continue\n",
        "                xMove = x + i\n",
        "                yMove = y + j\n",
        "                counter += checkMove(xMove, yMove)\n",
        "    return counter\n",
        "\n",
        "def checkMove(x, y):\n",
        "    if 97 <= x <= 104 and 1 <= y <= 8:\n",
        "        return 1\n",
        "    return 0"
      ],
      "metadata": {
        "id": "-kFsq-idZ7w0"
      },
      "execution_count": null,
      "outputs": []
    },
    {
      "cell_type": "markdown",
      "source": [
        "# Delete Digit (51)\n",
        "Given some integer, find the maximal number you can obtain by deleting exactly one digit of the given number.\n",
        "\n",
        "### Example\n",
        "\n",
        "For n = 152, the output should be\n",
        "solution(n) = 52;\n",
        "For n = 1001, the output should be\n",
        "solution(n) = 101."
      ],
      "metadata": {
        "id": "h06E5sc1Z85S"
      }
    },
    {
      "cell_type": "code",
      "source": [
        "def deleteDigit(n):\n",
        "    s = str(n)\n",
        "    return max([int(s[:i] + s[i+1:]) for i in range(len(s))])"
      ],
      "metadata": {
        "id": "OLFSwxBfZ9Po"
      },
      "execution_count": null,
      "outputs": []
    }
  ]
}