{
  "nbformat": 4,
  "nbformat_minor": 0,
  "metadata": {
    "colab": {
      "name": "1_The Journey Begins.ipynb",
      "provenance": []
    },
    "kernelspec": {
      "name": "python3",
      "display_name": "Python 3"
    },
    "language_info": {
      "name": "python"
    }
  },
  "cells": [
    {
      "cell_type": "markdown",
      "source": [
        "# Code Signal The Journey Begins"
      ],
      "metadata": {
        "id": "cBeBUYRiSDld"
      }
    },
    {
      "cell_type": "markdown",
      "source": [
        "## Add (01)\n",
        "\n",
        "Write a function that returns the sum of two numbers.\n",
        "\n",
        "### Example\n",
        "\n",
        "For param1 = 1 and param2 = 2, the output should be\n",
        "solution(param1, param2) = 3."
      ],
      "metadata": {
        "id": "2SQoapR3SREN"
      }
    },
    {
      "cell_type": "code",
      "execution_count": null,
      "metadata": {
        "id": "rxhvNHXQRzii"
      },
      "outputs": [],
      "source": [
        "def add(param1, param2):\n",
        "    return param1 + param2"
      ]
    },
    {
      "cell_type": "markdown",
      "source": [
        "## Century From Year (02)\n",
        "Given a year, return the century it is in. The first century spans from the year 1 up to and including the year 100, the second - from the year 101 up to and including the year 200, etc.\n",
        "\n",
        "### Example\n",
        "\n",
        "For year = 1905, the output should be\n",
        "solution(year) = 20;\n",
        "For year = 1700, the output should be\n",
        "solution(year) = 17.\n"
      ],
      "metadata": {
        "id": "w6opf9IdSGde"
      }
    },
    {
      "cell_type": "code",
      "source": [
        "def centuryFromYear(year):\n",
        "    return year / 100 if year % 100 == 0 else (year + 100 - year % 100) / 100"
      ],
      "metadata": {
        "id": "WsbkQGLDSHAJ"
      },
      "execution_count": null,
      "outputs": []
    },
    {
      "cell_type": "markdown",
      "source": [
        "## Check Palindrome (03)\n",
        "Given the string, check if it is a palindrome.\n",
        "\n",
        "### Example\n",
        "\n",
        "For inputString = \"aabaa\", the output should be\n",
        "solution(inputString) = true;\n",
        "For inputString = \"abac\", the output should be\n",
        "solution(inputString) = false;\n",
        "For inputString = \"a\", the output should be\n",
        "solution(inputString) = true."
      ],
      "metadata": {
        "id": "5800U-O4SHS_"
      }
    },
    {
      "cell_type": "code",
      "source": [
        "def checkPalindrome(inputString):\n",
        "    return True if inputString == inputString[::-1] else False"
      ],
      "metadata": {
        "id": "-PfHi5_TSHzl"
      },
      "execution_count": null,
      "outputs": []
    }
  ]
}