{
  "nbformat": 4,
  "nbformat_minor": 0,
  "metadata": {
    "colab": {
      "name": "3_Smooth Sailing.ipynb",
      "provenance": []
    },
    "kernelspec": {
      "name": "python3",
      "display_name": "Python 3"
    },
    "language_info": {
      "name": "python"
    }
  },
  "cells": [
    {
      "cell_type": "markdown",
      "source": [
        "# Code Signal Smooth Sailing"
      ],
      "metadata": {
        "id": "3qM4fHw8V8RV"
      }
    },
    {
      "cell_type": "markdown",
      "source": [
        "## All Longest Strings (9)\n",
        "Given an array of strings, return another array containing all of its longest strings.\n",
        "\n",
        "### Example\n",
        "\n",
        "For inputArray = [\"aba\", \"aa\", \"ad\", \"vcd\", \"aba\"], the output should be\n",
        "solution(inputArray) = [\"aba\", \"vcd\", \"aba\"]."
      ],
      "metadata": {
        "id": "yAau4AjeVfMs"
      }
    },
    {
      "cell_type": "code",
      "source": [
        "def allLongestStrings(inputArray):\n",
        "    low = 0\n",
        "    longest = []\n",
        "    for i in range(len(inputArray)):\n",
        "        if len(inputArray[i]) > low:\n",
        "            longest = []\n",
        "            longest.append(inputArray[i])\n",
        "            low = len(inputArray[i])\n",
        "        elif len(inputArray[i]) == low:\n",
        "            longest.append(inputArray[i])\n",
        "    return longest"
      ],
      "metadata": {
        "id": "mjGmvd8TVjSr"
      },
      "execution_count": null,
      "outputs": []
    },
    {
      "cell_type": "markdown",
      "source": [
        "## Common Character Count (10)\n",
        "Given two strings, find the number of common characters between them.\n",
        "\n",
        "### Example\n",
        "\n",
        "For s1 = \"aabcc\" and s2 = \"adcaa\", the output should be\n",
        "solution(s1, s2) = 3.\n",
        "\n",
        "Strings have 3 common characters - 2 \"a\"s and 1 \"c\"."
      ],
      "metadata": {
        "id": "KijzafioVl9S"
      }
    },
    {
      "cell_type": "code",
      "source": [
        "def commonCharacterCount(s1, s2):\n",
        "    common = [min(s1.count(i), s2.count(i)) for i in set(s1)]\n",
        "    return sum(common)"
      ],
      "metadata": {
        "id": "xrqW7_M2VmXD"
      },
      "execution_count": null,
      "outputs": []
    },
    {
      "cell_type": "markdown",
      "source": [
        "## Is Lucky (11)\n",
        "Ticket numbers usually consist of an even number of digits. A ticket number is considered lucky if the sum of the first half of the digits is equal to the sum of the second half.\n",
        "\n",
        "Given a ticket number n, determine if it's lucky or not.\n",
        "\n",
        "### Example\n",
        "\n",
        "For n = 1230, the output should be\n",
        "solution(n) = true;\n",
        "For n = 239017, the output should be\n",
        "solution(n) = false."
      ],
      "metadata": {
        "id": "q18MhbxzVmvh"
      }
    },
    {
      "cell_type": "code",
      "source": [
        "def isLucky(n):\n",
        "    s = str(n)\n",
        "    change = len(s)//2\n",
        "    left, right = s[:change], s[change:]\n",
        "    Lucky = sum(map(int, left)) == sum(map(int, right))\n",
        "    return Lucky"
      ],
      "metadata": {
        "id": "4zSrtXZPVnfX"
      },
      "execution_count": null,
      "outputs": []
    },
    {
      "cell_type": "markdown",
      "source": [
        "## Sort By Height (12)\n",
        "Some people are standing in a row in a park. There are trees between them which cannot be moved. Your task is to rearrange the people by their heights in a non-descending order without moving the trees. People can be very tall!\n",
        "\n",
        "### Example\n",
        "\n",
        "For a = [-1, 150, 190, 170, -1, -1, 160, 180], the output should be\n",
        "solution(a) = [-1, 150, 160, 170, -1, -1, 180, 190]."
      ],
      "metadata": {
        "id": "nvCOp5ilVnwr"
      }
    },
    {
      "cell_type": "code",
      "source": [
        "def sortByHeight(a):\n",
        "    # Sort people by height without moving trees. \n",
        "    # Trees are represented by -1\n",
        "    tree = -1\n",
        "    people = [x for x in a if x != -1]\n",
        "    people.sort()\n",
        "    numTrees = a.count(tree)\n",
        "    treeIndex = [i for i, val in enumerate(a) if val==-1]\n",
        "    for i in treeIndex:\n",
        "        people.insert(i,tree)\n",
        "    return people"
      ],
      "metadata": {
        "id": "QsdMEyTJVoB8"
      },
      "execution_count": null,
      "outputs": []
    },
    {
      "cell_type": "markdown",
      "source": [
        "## Reverse In Parentheses (13)\n",
        "Write a function that reverses characters in (possibly nested) parentheses in the input string.\n",
        "\n",
        "Input strings will always be well-formed with matching ()s.\n",
        "\n",
        "### Example\n",
        "\n",
        "For inputString = \"(bar)\", the output should be\n",
        "solution(inputString) = \"rab\";\n",
        "For inputString = \"foo(bar)baz\", the output should be\n",
        "solution(inputString) = \"foorabbaz\";\n",
        "For inputString = \"foo(bar)baz(blim)\", the output should be\n",
        "solution(inputString) = \"foorabbazmilb\";\n",
        "For inputString = \"foo(bar(baz))blim\", the output should be\n",
        "solution(inputString) = \"foobazrabblim\".\n",
        "Because \"foo(bar(baz))blim\" becomes \"foo(barzab)blim\" and then \"foobazrabblim\"."
      ],
      "metadata": {
        "id": "FKzQypOKVqXI"
      }
    },
    {
      "cell_type": "code",
      "source": [
        "def reverseInParentheses(inputString):\n",
        "    return eval('\"' + inputString.replace('(', '\"+(\"').replace(')', '\")[::-1]+\"') + '\"')"
      ],
      "metadata": {
        "id": "3uuFrxMHVqwQ"
      },
      "execution_count": null,
      "outputs": []
    }
  ]
}