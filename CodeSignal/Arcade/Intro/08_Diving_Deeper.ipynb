{
  "nbformat": 4,
  "nbformat_minor": 0,
  "metadata": {
    "colab": {
      "name": "8_Diving Deeper.ipynb",
      "provenance": []
    },
    "kernelspec": {
      "name": "python3",
      "display_name": "Python 3"
    },
    "language_info": {
      "name": "python"
    }
  },
  "cells": [
    {
      "cell_type": "markdown",
      "source": [
        "# Code Signal Diving Deeper"
      ],
      "metadata": {
        "id": "eNLQI5OfZtWD"
      }
    },
    {
      "cell_type": "markdown",
      "source": [
        "## Extract Eack Kth (34)\n",
        "Given array of integers, remove each kth element from it.\n",
        "\n",
        "### Example\n",
        "\n",
        "For inputArray = [1, 2, 3, 4, 5, 6, 7, 8, 9, 10] and k = 3, the output should be\n",
        "solution(inputArray, k) = [1, 2, 4, 5, 7, 8, 10].\n",
        "\n"
      ],
      "metadata": {
        "id": "0mIu_4dBZ4QQ"
      }
    },
    {
      "cell_type": "code",
      "source": [
        "def extractEachKth(inputArray, k):\n",
        "    loop = ((len(inputArray) - (len(inputArray)%k))/k)\n",
        "    loop = int(loop)\n",
        "    L = []\n",
        "    for i in range(loop):\n",
        "        L.insert(0,i+1)\n",
        "    for i in L:\n",
        "        del inputArray[(i*k)-1]\n",
        "    return inputArray"
      ],
      "metadata": {
        "id": "b_7SnT7fZ4uo"
      },
      "execution_count": null,
      "outputs": []
    },
    {
      "cell_type": "markdown",
      "source": [
        "## First Digit (35)\n",
        "Find the leftmost digit that occurs in a given string.\n",
        "\n",
        "### Example\n",
        "\n",
        "For inputString = \"var_1__Int\", the output should be\n",
        "solution(inputString) = '1';\n",
        "For inputString = \"q2q-q\", the output should be\n",
        "solution(inputString) = '2';\n",
        "For inputString = \"0ss\", the output should be\n",
        "solution(inputString) = '0'."
      ],
      "metadata": {
        "id": "F-SJHz0vZ6io"
      }
    },
    {
      "cell_type": "code",
      "source": [
        "def firstDigit(inputString):\n",
        "    #output the first digit found in a string\n",
        "    L = list(inputString)\n",
        "    J = []\n",
        "    for i in L:\n",
        "        if i.isnumeric():\n",
        "            J.append(i)\n",
        "    return J[0]"
      ],
      "metadata": {
        "id": "tTdIOykFZ63F"
      },
      "execution_count": null,
      "outputs": []
    },
    {
      "cell_type": "markdown",
      "source": [
        "## Different Symbols Naive (36)\n",
        "Given a string, find the number of different characters in it.\n",
        "\n",
        "### Example\n",
        "\n",
        "For s = \"cabca\", the output should be\n",
        "solution(s) = 3.\n",
        "\n",
        "There are 3 different characters a, b and c."
      ],
      "metadata": {
        "id": "lraKkzAKZ7bU"
      }
    },
    {
      "cell_type": "code",
      "source": [
        "from collections import Counter\n",
        "def differentSymbolsNaive(s):\n",
        "    ## Given a string, find the number of different characters in it.\n",
        "    c = Counter(s)\n",
        "    getList(c)\n",
        "    return len(c)\n",
        "    \n",
        "def getList(dict):\n",
        "    ## Create a list of all the keys in a given dictionary\n",
        "    ## For example getList(Dictionary[\"SubDictionary\"])\n",
        "    ## Or getList(Dictionary)\n",
        "    list = []\n",
        "    for key in dict.keys():\n",
        "        list.append(key)\n",
        "          \n",
        "    return list"
      ],
      "metadata": {
        "id": "-kFsq-idZ7w0"
      },
      "execution_count": null,
      "outputs": []
    },
    {
      "cell_type": "markdown",
      "source": [
        "## Array Max Consecutive Sum (37)\n",
        "Given array of integers, find the maximal possible sum of some of its k consecutive elements.\n",
        "\n",
        "### Example\n",
        "\n",
        "For inputArray = [2, 3, 5, 1, 6] and k = 2, the output should be\n",
        "solution(inputArray, k) = 8.\n",
        "All possible sums of 2 consecutive elements are:\n",
        "\n",
        "2 + 3 = 5;\n",
        "3 + 5 = 8;\n",
        "5 + 1 = 6;\n",
        "1 + 6 = 7.\n",
        "Thus, the answer is 8."
      ],
      "metadata": {
        "id": "h06E5sc1Z85S"
      }
    },
    {
      "cell_type": "code",
      "source": [
        "def arrayMaxConsecutiveSum(inputArray, k):\n",
        "    ## Given array of integers, find the maximal possible sum of some of its k consecutive elements.\n",
        "    S = sum(inputArray[:k])\n",
        "    M = S\n",
        "    for i in range(len(inputArray) - k):\n",
        "        S += ( inputArray[i+k] - inputArray[i])\n",
        "        if M < S:\n",
        "            M = S\n",
        "    return M"
      ],
      "metadata": {
        "id": "OLFSwxBfZ9Po"
      },
      "execution_count": null,
      "outputs": []
    }
  ]
}