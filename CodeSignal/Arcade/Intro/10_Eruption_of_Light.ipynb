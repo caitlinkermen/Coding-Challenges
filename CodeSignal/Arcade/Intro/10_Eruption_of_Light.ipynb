{
  "nbformat": 4,
  "nbformat_minor": 0,
  "metadata": {
    "colab": {
      "name": "10_Eruption of Light.ipynb",
      "provenance": []
    },
    "kernelspec": {
      "name": "python3",
      "display_name": "Python 3"
    },
    "language_info": {
      "name": "python"
    }
  },
  "cells": [
    {
      "cell_type": "markdown",
      "source": [
        "# Code Signal Eruption of Light"
      ],
      "metadata": {
        "id": "eNLQI5OfZtWD"
      }
    },
    {
      "cell_type": "markdown",
      "source": [
        "## Is Beautiful String (43)\n",
        "A string is said to be beautiful if each letter in the string appears at most as many times as the previous letter in the alphabet within the string; ie: b occurs no more times than a; c occurs no more times than b; etc. Note that letter a has no previous letter.\n",
        "\n",
        "Given a string, check whether it is beautiful.\n",
        "\n",
        "### Example\n",
        "\n",
        "For inputString = \"bbbaacdafe\", the output should be solution(inputString) = true.\n",
        "\n",
        "This string contains 3 as, 3 bs, 1 c, 1 d, 1 e, and 1 f (and 0 of every other letter), so since there aren't any letters that appear more frequently than the previous letter, this string qualifies as beautiful.\n",
        "\n",
        "For inputString = \"aabbb\", the output should be solution(inputString) = false.\n",
        "\n",
        "Since there are more bs than as, this string is not beautiful.\n",
        "\n",
        "For inputString = \"bbc\", the output should be solution(inputString) = false.\n",
        "\n",
        "Although there are more bs than cs, this string is not beautiful because there are no as, so therefore there are more bs than as."
      ],
      "metadata": {
        "id": "pLeJJxz6Z3gm"
      }
    },
    {
      "cell_type": "code",
      "source": [
        "def isBeautifulString(inputString):\n",
        "    result = [inputString.count(c) for c in string.ascii_lowercase]\n",
        "    return result[::-1] == sorted(result)\n"
      ],
      "metadata": {
        "id": "B8dvb3xzZ310"
      },
      "execution_count": null,
      "outputs": []
    },
    {
      "cell_type": "markdown",
      "source": [
        "## Find Email Domain (44)\n",
        "An email address such as \"John.Smith@example.com\" is made up of a local part (\"John.Smith\"), an \"@\" symbol, then a domain part (\"example.com\").\n",
        "\n",
        "The domain name part of an email address may only consist of letters, digits, hyphens and dots. The local part, however, also allows a lot of different special characters. Here you can look at several examples of correct and incorrect email addresses.\n",
        "\n",
        "Given a valid email address, find its domain part.\n",
        "\n",
        "### Example\n",
        "\n",
        "For address = \"prettyandsimple@example.com\", the output should be\n",
        "solution(address) = \"example.com\";\n",
        "For address = \"fully-qualified-domain@codesignal.com\", the output should be\n",
        "solution(address) = \"codesignal.com\"."
      ],
      "metadata": {
        "id": "0mIu_4dBZ4QQ"
      }
    },
    {
      "cell_type": "code",
      "source": [
        "def findEmailDomain(address):\n",
        "    return address[address.rindex('@')+1:]"
      ],
      "metadata": {
        "id": "b_7SnT7fZ4uo"
      },
      "execution_count": null,
      "outputs": []
    },
    {
      "cell_type": "markdown",
      "source": [
        "## Build Palindrome (45)\n",
        "Given a string, find the shortest possible string which can be achieved by adding characters to the end of initial string to make it a palindrome.\n",
        "\n",
        "### Example\n",
        "\n",
        "For st = \"abcdc\", the output should be\n",
        "solution(st) = \"abcdcba\"."
      ],
      "metadata": {
        "id": "F-SJHz0vZ6io"
      }
    },
    {
      "cell_type": "code",
      "source": [
        "def buildPalindrome(st):\n",
        "    for i in range(len(st)):\n",
        "        if st[i:] in st[::-1]:\n",
        "            return st[:i] + st[::-1]"
      ],
      "metadata": {
        "id": "tTdIOykFZ63F"
      },
      "execution_count": null,
      "outputs": []
    },
    {
      "cell_type": "markdown",
      "source": [
        "## Elections Winners (46)\n",
        "Elections are in progress!\n",
        "\n",
        "Given an array of the numbers of votes given to each of the candidates so far, and an integer k equal to the number of voters who haven't cast their vote yet, find the number of candidates who still have a chance to win the election.\n",
        "\n",
        "The winner of the election must secure strictly more votes than any other candidate. If two or more candidates receive the same (maximum) number of votes, assume there is no winner at all.\n",
        "\n",
        "### Example\n",
        "\n",
        "For votes = [2, 3, 5, 2] and k = 3, the output should be\n",
        "solution(votes, k) = 2.\n",
        "\n",
        "The first candidate got 2 votes. Even if all of the remaining 3 candidates vote for him, he will still have only 5 votes, i.e. the same number as the third candidate, so there will be no winner.\n",
        "The second candidate can win if all the remaining candidates vote for him (3 + 3 = 6 > 5).\n",
        "The third candidate can win even if none of the remaining candidates vote for him. For example, if each of the remaining voters cast their votes for each of his opponents, he will still be the winner (the votes array will thus be [3, 4, 5, 3]).\n",
        "The last candidate can't win no matter what (for the same reason as the first candidate).\n",
        "Thus, only 2 candidates can win (the second and the third), which is the answer."
      ],
      "metadata": {
        "id": "lraKkzAKZ7bU"
      }
    },
    {
      "cell_type": "code",
      "source": [
        "def electionsWinners(votes, k):\n",
        "    highest = max(votes)\n",
        "    return int(votes.count(highest) == 1) if k == 0 else len([vote for vote in votes if vote + k > highest])"
      ],
      "metadata": {
        "id": "-kFsq-idZ7w0"
      },
      "execution_count": null,
      "outputs": []
    },
    {
      "cell_type": "markdown",
      "source": [
        "## Is MAC48 Address (47)\n",
        "A media access control address (MAC address) is a unique identifier assigned to network interfaces for communications on the physical network segment.\n",
        "\n",
        "The standard (IEEE 802) format for printing MAC-48 addresses in human-friendly form is six groups of two hexadecimal digits (0 to 9 or A to F), separated by hyphens (e.g. 01-23-45-67-89-AB).\n",
        "\n",
        "Your task is to check by given string inputString whether it corresponds to MAC-48 address or not.\n",
        "\n",
        "### Example\n",
        "\n",
        "For inputString = \"00-1B-63-84-45-E6\", the output should be\n",
        "solution(inputString) = true;\n",
        "For inputString = \"Z1-1B-63-84-45-E6\", the output should be\n",
        "solution(inputString) = false;\n",
        "For inputString = \"not a MAC-48 address\", the output should be\n",
        "solution(inputString) = false."
      ],
      "metadata": {
        "id": "h06E5sc1Z85S"
      }
    },
    {
      "cell_type": "code",
      "source": [
        "def isMAC48Address(inputString):\n",
        "    codes = inputString.split('-')\n",
        "    if len(codes) != 6: return False\n",
        "    for code in codes:\n",
        "        if not isHexDigit(code): return False\n",
        "    return True\n",
        "        \n",
        "def isHexDigit(code):\n",
        "    if len(code) != 2: return False\n",
        "    hexvalues = \"0123456789ABCDEFabcdef\"\n",
        "    return code[0] in hexvalues and code[1] in hexvalues"
      ],
      "metadata": {
        "id": "OLFSwxBfZ9Po"
      },
      "execution_count": null,
      "outputs": []
    }
  ]
}