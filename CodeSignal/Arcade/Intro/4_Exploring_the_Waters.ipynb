{
  "nbformat": 4,
  "nbformat_minor": 0,
  "metadata": {
    "colab": {
      "name": "4_Exploring the Waters.ipynb",
      "provenance": []
    },
    "kernelspec": {
      "name": "python3",
      "display_name": "Python 3"
    },
    "language_info": {
      "name": "python"
    }
  },
  "cells": [
    {
      "cell_type": "markdown",
      "source": [
        "# Code Signal Exploring the Waters"
      ],
      "metadata": {
        "id": "Zz99CIhTWFdc"
      }
    },
    {
      "cell_type": "markdown",
      "source": [
        "## Alternating Sums (14)\n",
        "Several people are standing in a row and need to be divided into two teams. The first person goes into team 1, the second goes into team 2, the third goes into team 1 again, the fourth into team 2, and so on.\n",
        "\n",
        "You are given an array of positive integers - the weights of the people. Return an array of two integers, where the first element is the total weight of team 1, and the second element is the total weight of team 2 after the division is complete.\n",
        "\n",
        "### Example\n",
        "\n",
        "For a = [50, 60, 60, 45, 70], the output should be\n",
        "solution(a) = [180, 105]."
      ],
      "metadata": {
        "id": "b8bG0ym-WFM3"
      }
    },
    {
      "cell_type": "code",
      "execution_count": null,
      "metadata": {
        "id": "lfxSAewuWCob"
      },
      "outputs": [],
      "source": [
        "def alternatingSums(a):\n",
        "    #Sum every other person.\n",
        "    team1=[] #Team one starts with the first person\n",
        "    team2=[] #Team two starts with the second person\n",
        "    for i in range(len(a)):\n",
        "        if i%2 == 0:\n",
        "            team1.append(a[i])\n",
        "        if i%2 == 1:\n",
        "            team2.append(a[i])\n",
        "    return (sum(team1)), (sum(team2))"
      ]
    },
    {
      "cell_type": "markdown",
      "source": [
        "## Add Border (15)\n",
        "Given a rectangular matrix of characters, add a border of asterisks(*) to it.\n",
        "\n",
        "Example\n",
        "\n",
        "For\n",
        "\n",
        "\n",
        "\n",
        "```\n",
        "picture = [\"abc\",\n",
        "           \"ded\"]\n",
        "```\n",
        "\n",
        "\n",
        "\n",
        "the output should be\n",
        "\n",
        "\n",
        "\n",
        "```\n",
        "solution(picture) = [\"*****\",\n",
        "                      \"*abc*\",\n",
        "                      \"*ded*\",\n",
        "                      \"*****\"]\n",
        "```\n",
        "\n",
        "\n"
      ],
      "metadata": {
        "id": "1kRzkIjaWMig"
      }
    },
    {
      "cell_type": "code",
      "source": [
        "def addBorder(picture):\n",
        "    border = [\"*\"*(len(picture[0])+2)]\n",
        "    for word in picture:\n",
        "        border.append(\"*\"+word+\"*\")\n",
        "    border.append(border[0])\n",
        "    return border"
      ],
      "metadata": {
        "id": "ElMmFAT7WM6w"
      },
      "execution_count": null,
      "outputs": []
    },
    {
      "cell_type": "markdown",
      "source": [
        "## Are Similar? (16)\n",
        "Two arrays are called similar if one can be obtained from another by swapping at most one pair of elements in one of the arrays.\n",
        "\n",
        "Given two arrays a and b, check whether they are similar.\n",
        "\n",
        "### Example\n",
        "\n",
        "For a = [1, 2, 3] and b = [1, 2, 3], the output should be\n",
        "solution(a, b) = true.\n",
        "\n",
        "The arrays are equal, no need to swap any elements.\n",
        "\n",
        "For a = [1, 2, 3] and b = [2, 1, 3], the output should be\n",
        "solution(a, b) = true.\n",
        "\n",
        "We can obtain b from a by swapping 2 and 1 in b.\n",
        "\n",
        "For a = [1, 2, 2] and b = [2, 1, 1], the output should be\n",
        "solution(a, b) = false.\n",
        "\n",
        "Any swap of any two elements either in a or in b won't make a and b equal."
      ],
      "metadata": {
        "id": "HuWXl8tzWORk"
      }
    },
    {
      "cell_type": "code",
      "source": [
        "def areSimilar(a, b):\n",
        "    count = 0\n",
        "    swap = []\n",
        "    for i in range(len(a)):\n",
        "        if a[i] not in b:\n",
        "            return False\n",
        "        elif a[i] != b[i]:\n",
        "            count+=1\n",
        "            swap.append([a[i],b[i]])\n",
        "            if count > 2:\n",
        "                return False\n",
        "    if count == 0 or count == 2 and swap[0] == swap[1][::-1]:\n",
        "        return True\n",
        "    else:\n",
        "        return False"
      ],
      "metadata": {
        "id": "VYkOx-hDWOoi"
      },
      "execution_count": null,
      "outputs": []
    },
    {
      "cell_type": "markdown",
      "source": [
        "## Array Change (17)\n",
        "You are given an array of integers. On each move you are allowed to increase exactly one of its element by one. Find the minimal number of moves required to obtain a strictly increasing sequence from the input.\n",
        "\n",
        "### Example\n",
        "\n",
        "For inputArray = [1, 1, 1], the output should be\n",
        "solution(inputArray) = 3."
      ],
      "metadata": {
        "id": "tNlWw0SaWPu9"
      }
    },
    {
      "cell_type": "code",
      "source": [
        "def arrayChange(inputArray):\n",
        "    a = 0\n",
        "    newArray=inputArray[:]\n",
        "    for i in range(len(inputArray)-1):\n",
        "        if newArray[i]>=newArray[i+1]:\n",
        "            a+=newArray[i]-newArray[i+1]+1\n",
        "            newArray[i+1] = newArray[i]+1\n",
        "    return a"
      ],
      "metadata": {
        "id": "7-cKtEKWWQWN"
      },
      "execution_count": null,
      "outputs": []
    },
    {
      "cell_type": "markdown",
      "source": [
        "## Palindrome Rearranging (18)\n",
        "Given a string, find out if its characters can be rearranged to form a palindrome.\n",
        "\n",
        "### Example\n",
        "\n",
        "For inputString = \"aabb\", the output should be\n",
        "solution(inputString) = true.\n",
        "\n",
        "We can rearrange \"aabb\" to make \"abba\", which is a palindrome."
      ],
      "metadata": {
        "id": "Xl-NTXKEWRQr"
      }
    },
    {
      "cell_type": "code",
      "source": [
        "def palindromeRearranging(inputString):\n",
        "   #check if the inputString can be rearranged into a palindrome.\n",
        "    countString = []\n",
        "    done = []\n",
        "    for i in inputString:\n",
        "        if i in done:\n",
        "           continue\n",
        "        if inputString.count(i)%2==1:\n",
        "            countString.append(inputString.count(i))\n",
        "            done.append(i)\n",
        "    if len(countString)>1:\n",
        "        return False\n",
        "    else:\n",
        "        return True"
      ],
      "metadata": {
        "id": "6B_0XnuIWR2m"
      },
      "execution_count": null,
      "outputs": []
    }
  ]
}