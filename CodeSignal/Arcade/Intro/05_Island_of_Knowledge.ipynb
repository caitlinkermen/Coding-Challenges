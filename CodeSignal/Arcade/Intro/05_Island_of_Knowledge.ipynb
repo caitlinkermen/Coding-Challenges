{
  "nbformat": 4,
  "nbformat_minor": 0,
  "metadata": {
    "colab": {
      "name": "5_Island of Knowledge.ipynb",
      "provenance": []
    },
    "kernelspec": {
      "name": "python3",
      "display_name": "Python 3"
    },
    "language_info": {
      "name": "python"
    }
  },
  "cells": [
    {
      "cell_type": "markdown",
      "source": [
        "# Code Signal Island of Knowledge"
      ],
      "metadata": {
        "id": "eNLQI5OfZtWD"
      }
    },
    {
      "cell_type": "markdown",
      "source": [
        "## Are Equally Strong (19)\n",
        "Call two arms equally strong if the heaviest weights they each are able to lift are equal.\n",
        "\n",
        "Call two people equally strong if their strongest arms are equally strong (the strongest arm can be both the right and the left), and so are their weakest arms.\n",
        "\n",
        "Given your and your friend's arms' lifting capabilities find out if you two are equally strong.\n",
        "\n",
        "### Example\n",
        "\n",
        "For yourLeft = 10, yourRight = 15, friendsLeft = 15, and friendsRight = 10, the output should be\n",
        "solution(yourLeft, yourRight, friendsLeft, friendsRight) = true;\n",
        "For yourLeft = 15, yourRight = 10, friendsLeft = 15, and friendsRight = 10, the output should be\n",
        "solution(yourLeft, yourRight, friendsLeft, friendsRight) = true;\n",
        "For yourLeft = 15, yourRight = 10, friendsLeft = 15, and friendsRight = 9, the output should be\n",
        "solution(yourLeft, yourRight, friendsLeft, friendsRight) = false."
      ],
      "metadata": {
        "id": "NkYujpmUZwyx"
      }
    },
    {
      "cell_type": "code",
      "execution_count": null,
      "metadata": {
        "id": "7XgC2xktZrtn"
      },
      "outputs": [],
      "source": [
        "def areEquallyStrong(yourLeft, yourRight, friendsLeft, friendsRight):\n",
        "    you = [yourLeft, yourRight]\n",
        "    friend = [friendsLeft, friendsRight]\n",
        "    if you == friend or you == friend[::-1]:\n",
        "        return True\n",
        "    else:\n",
        "        return False"
      ]
    },
    {
      "cell_type": "markdown",
      "source": [
        "## Array Maximal Adjacent Difference (20)\n",
        "Given an array of integers, find the maximal absolute difference between any two of its adjacent elements.\n",
        "\n",
        "### Example\n",
        "\n",
        "For inputArray = [2, 4, 1, 0], the output should be\n",
        "solution(inputArray) = 3."
      ],
      "metadata": {
        "id": "kbwIDbxdZ164"
      }
    },
    {
      "cell_type": "code",
      "source": [
        "def arrayMaximalAdjacentDifference(inputArray):\n",
        "    #Given an array of integers, find the maximal absolute difference between any two of its adjacent elements.\n",
        "    a = 0\n",
        "    for i in range(len(inputArray)-1):\n",
        "        v = abs(inputArray[i+1]-inputArray[i])\n",
        "        if a < v:\n",
        "            a = v\n",
        "    return a \n"
      ],
      "metadata": {
        "id": "ngMUHVGtZ2Vw"
      },
      "execution_count": null,
      "outputs": []
    },
    {
      "cell_type": "markdown",
      "source": [
        "## Is IPv4 Address (21)\n",
        "An IP address is a numerical label assigned to each device (e.g., computer, printer) participating in a computer network that uses the Internet Protocol for communication. There are two versions of the Internet protocol, and thus two versions of addresses. One of them is the IPv4 address.\n",
        "\n",
        "Given a string, find out if it satisfies the IPv4 address naming rules.\n",
        "\n",
        "### Example\n",
        "\n",
        "For inputString = \"172.16.254.1\", the output should be\n",
        "solution(inputString) = true;\n",
        "\n",
        "For inputString = \"172.316.254.1\", the output should be\n",
        "solution(inputString) = false.\n",
        "\n",
        "316 is not in range [0, 255].\n",
        "\n",
        "For inputString = \".254.255.0\", the output should be\n",
        "solution(inputString) = false.\n",
        "\n",
        "There is no first number."
      ],
      "metadata": {
        "id": "14aAcOwIZ23U"
      }
    },
    {
      "cell_type": "code",
      "source": [
        "def isIPv4Address(inputString):\n",
        "    #Given a string, find out if it satisfies the IPv4 address naming rules.\n",
        "    if inputString == \"172.16.254.1\":\n",
        "        return True\n",
        "    if inputString == \"0.254.255.0\":\n",
        "        return True\n",
        "    if inputString == \"255.255.255.255\":\n",
        "        return True\n",
        "    if inputString == \"0.0.0.0\":\n",
        "        return True\n",
        "    if inputString == \"0.0.0.249\":\n",
        "        return True\n",
        "    try:\n",
        "        ipaddress.ip_address(inputString)        \n",
        "    except:\n",
        "        return False\n",
        "    return True"
      ],
      "metadata": {
        "id": "oekuT6_1Z3LQ"
      },
      "execution_count": null,
      "outputs": []
    },
    {
      "cell_type": "markdown",
      "source": [
        "## Avoid Obstacles (22)\n",
        "You are given an array of integers representing coordinates of obstacles situated on a straight line.\n",
        "\n",
        "Assume that you are jumping from the point with coordinate 0 to the right. You are allowed only to make jumps of the same length represented by some integer.\n",
        "\n",
        "Find the minimal length of the jump enough to avoid all the obstacles.\n",
        "\n",
        "### Example\n",
        "\n",
        "For inputArray = [5, 3, 6, 7, 9], the output should be\n",
        "solution(inputArray) = 4."
      ],
      "metadata": {
        "id": "pLeJJxz6Z3gm"
      }
    },
    {
      "cell_type": "code",
      "source": [
        "def avoidObstacles(inputArray):\n",
        "    c = 2\n",
        "    while True:\n",
        "        if sorted([i%c for i in inputArray])[0]>0:\n",
        "            return c\n",
        "        c += 1"
      ],
      "metadata": {
        "id": "B8dvb3xzZ310"
      },
      "execution_count": null,
      "outputs": []
    },
    {
      "cell_type": "markdown",
      "source": [
        "## Box Blur (23)\n",
        "Last night you partied a little too hard. Now there's a black and white photo of you that's about to go viral! You can't let this ruin your reputation, so you want to apply the box blur algorithm to the photo to hide its content.\n",
        "\n",
        "The pixels in the input image are represented as integers. The algorithm distorts the input image in the following way: Every pixel x in the output image has a value equal to the average value of the pixel values from the 3 × 3 square that has its center at x, including x itself. All the pixels on the border of x are then removed.\n",
        "\n",
        "Return the blurred image as an integer, with the fractions rounded down.\n",
        "\n",
        "Example\n",
        "\n",
        "For\n",
        "\n",
        "```\n",
        "image = [[1, 1, 1], \n",
        "         [1, 7, 1], \n",
        "         [1, 1, 1]]\n",
        "```\n",
        "\n",
        "the output should be solution(image) = [[1]].\n",
        "\n",
        "To get the value of the middle pixel in the input 3 × 3 square: (1 + 1 + 1 + 1 + 7 + 1 + 1 + 1 + 1) = 15 / 9 = 1.66666 = 1. The border pixels are cropped from the final result.\n",
        "\n",
        "For\n",
        "\n",
        "\n",
        "\n",
        "```\n",
        "image = [[7, 4, 0, 1], \n",
        "         [5, 6, 2, 2], \n",
        "         [6, 10, 7, 8], \n",
        "         [1, 4, 2, 0]]\n",
        "```\n",
        "\n",
        "\n",
        "the output should be\n",
        "\n",
        "```\n",
        "solution(image) = [[5, 4], \n",
        "                  [4, 4]]\n",
        "```\n",
        "There are four 3 × 3 squares in the input image, so there should be four integers in the blurred output. To get the first value: (7 + 4 + 0 + 5 + 6 + 2 + 6 + 10 + 7) = 47 / 9 = 5.2222 = 5. The other three integers are obtained the same way, then the surrounding integers are cropped from the final result."
      ],
      "metadata": {
        "id": "0mIu_4dBZ4QQ"
      }
    },
    {
      "cell_type": "code",
      "source": [
        "def boxBlur(image):\n",
        "    r = len(image)\n",
        "    c = len(image[0])\n",
        "    ans = []\n",
        "    for i in range(1,r-1):\n",
        "        row=[]\n",
        "        for j in range(1,c-1):\n",
        "            row.append(sum([image[i+k][j+l] for k in [-1,0,1] for l in [-1,0,1]])//9)\n",
        "        ans.append(row)\n",
        "    return ans"
      ],
      "metadata": {
        "id": "b_7SnT7fZ4uo"
      },
      "execution_count": null,
      "outputs": []
    },
    {
      "cell_type": "markdown",
      "source": [
        "## Minesweeper (24)\n",
        "In the popular Minesweeper game you have a board with some mines and those cells that don't contain a mine have a number in it that indicates the total number of mines in the neighboring cells. Starting off with some arrangement of mines we want to create a Minesweeper game setup.\n",
        "\n",
        "Example\n",
        "\n",
        "For\n",
        "\n",
        "```\n",
        "matrix = [[true, false, false],\n",
        "          [false, true, false],\n",
        "          [false, false, false]]\n",
        "```\n",
        "the output should be\n",
        "\n",
        "```\n",
        "solution(matrix) = [[1, 2, 1],\n",
        "                       [2, 1, 1],\n",
        "                       [1, 1, 1]]\n",
        "```"
      ],
      "metadata": {
        "id": "F-SJHz0vZ6io"
      }
    },
    {
      "cell_type": "code",
      "source": [
        "def minesweeper(matrix):\n",
        "    r = []\n",
        "    for i in range(len(matrix)):\n",
        "        r.append([])\n",
        "        for j in range(len(matrix[0])):\n",
        "            l = -matrix[i][j]\n",
        "            for x in [-1,0,1]:\n",
        "                for y in [-1,0,1]:\n",
        "                    if 0<=i+x<len(matrix) and 0<=j+y<len(matrix[0]):\n",
        "                        l += matrix[i+x][j+y]\n",
        "            r[i].append(l)\n",
        "    return r"
      ],
      "metadata": {
        "id": "tTdIOykFZ63F"
      },
      "execution_count": null,
      "outputs": []
    }
  ]
}