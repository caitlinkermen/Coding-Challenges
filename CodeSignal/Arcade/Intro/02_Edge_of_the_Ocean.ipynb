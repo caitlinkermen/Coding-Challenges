{
  "nbformat": 4,
  "nbformat_minor": 0,
  "metadata": {
    "colab": {
      "name": "2_Edge of the Ocean.ipynb",
      "provenance": []
    },
    "kernelspec": {
      "name": "python3",
      "display_name": "Python 3"
    },
    "language_info": {
      "name": "python"
    }
  },
  "cells": [
    {
      "cell_type": "markdown",
      "source": [
        "# Code Signal Edge of the Ocean"
      ],
      "metadata": {
        "id": "L-N9AcW8Th-7"
      }
    },
    {
      "cell_type": "markdown",
      "source": [
        "## Adjacent Elements Product (4)\n",
        "Given an array of integers, find the pair of adjacent elements that has the largest product and return that product.\n",
        "\n",
        "### Example\n",
        "\n",
        "For inputArray = [3, 6, -2, -5, 7, 3], the output should be\n",
        "solution(inputArray) = 21.\n",
        "\n",
        "7 and 3 produce the largest product."
      ],
      "metadata": {
        "id": "K9jth9V5TwMd"
      }
    },
    {
      "cell_type": "code",
      "execution_count": null,
      "metadata": {
        "id": "IXxDmevQTHro"
      },
      "outputs": [],
      "source": [
        "def adjacentElementsProduct(inputArray):\n",
        "  b = []\n",
        "  for x, y in zip(inputArray, inputArray[1:]):\n",
        "    b.append((x*y)) \n",
        "  return max(b)  "
      ]
    },
    {
      "cell_type": "markdown",
      "source": [
        "## Shape Area (5)\n",
        "Below we will define an n-interesting polygon. Your task is to find the area of a polygon for a given n.\n",
        "\n",
        "A 1-interesting polygon is just a square with a side of length 1. An n-interesting polygon is obtained by taking the n - 1-interesting polygon and appending 1-interesting polygons to its rim, side by side. You can see the 1-, 2-, 3- and 4-interesting polygons in the picture below.\n",
        "\n",
        "![image.png](data:image/png;base64,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)"
      ],
      "metadata": {
        "id": "eNHZr8IvTitP"
      }
    },
    {
      "cell_type": "code",
      "source": [
        "def shapeArea(n):\n",
        "    area = n*n + (n-1)*(n-1)\n",
        "    return area "
      ],
      "metadata": {
        "id": "7bqAikG-TjH_"
      },
      "execution_count": null,
      "outputs": []
    },
    {
      "cell_type": "markdown",
      "source": [
        "## Make Array Consecutive (6)\n",
        "Ratiorg got statues of different sizes as a present from CodeMaster for his birthday, each statue having an non-negative integer size. Since he likes to make things perfect, he wants to arrange them from smallest to largest so that each statue will be bigger than the previous one exactly by 1. He may need some additional statues to be able to accomplish that. Help him figure out the minimum number of additional statues needed.\n",
        "\n",
        "### Example\n",
        "\n",
        "For statues = [6, 2, 3, 8], the output should be\n",
        "solution(statues) = 3.\n",
        "\n",
        "Ratiorg needs statues of sizes 4, 5 and 7."
      ],
      "metadata": {
        "id": "fm6EIT72Tm8D"
      }
    },
    {
      "cell_type": "code",
      "source": [
        "def makeArrayConsecutive(statues):\n",
        "  statues = sorted(statues)\n",
        "  if statues[-1] - statues[0] == len(statues):\n",
        "    return 0\n",
        "  else: \n",
        "    statuesNeeded = []\n",
        "    min = statues[0]\n",
        "    for i in range(statues[-1] - statues[0]):\n",
        "      if (min + i) not in statues:\n",
        "        statuesNeeded.append(min + i)\n",
        "        #min = min + 1 \n",
        "    return len(statuesNeeded)"
      ],
      "metadata": {
        "id": "A9P2CKlTTnQT"
      },
      "execution_count": null,
      "outputs": []
    },
    {
      "cell_type": "markdown",
      "source": [
        "## Almost Increasing Sequence (7)\n",
        "Given a sequence of integers as an array, determine whether it is possible to obtain a strictly increasing sequence by removing no more than one element from the array.\n",
        "\n",
        "Note: sequence a0, a1, ..., an is considered to be a strictly increasing if a0 < a1 < ... < an. Sequence containing only one element is also considered to be strictly increasing.\n",
        "\n",
        "### Example\n",
        "\n",
        "For sequence = [1, 3, 2, 1], the output should be\n",
        "solution(sequence) = false.\n",
        "\n",
        "There is no one element in this array that can be removed in order to get a strictly increasing sequence.\n",
        "\n",
        "For sequence = [1, 3, 2], the output should be\n",
        "solution(sequence) = true.\n",
        "\n",
        "You can remove 3 from the array to get the strictly increasing sequence [1, 2]. Alternately, you can remove 2 to get the strictly increasing sequence [1, 3]."
      ],
      "metadata": {
        "id": "yHLamgWaTnw7"
      }
    },
    {
      "cell_type": "code",
      "source": [
        "def first_bad_pair(sequence, k):\n",
        "    if 0 < k < len(sequence) - 1:\n",
        "        if sequence[k-1] >= sequence[k+1]:\n",
        "            return k-1\n",
        "    for i in range(k+1, len(sequence)-1):\n",
        "        if sequence[i] >= sequence[i+1]:\n",
        "            return i\n",
        "    return -1\n",
        "\n",
        "def almostIncreasingSequence(sequence):\n",
        "    j = first_bad_pair(sequence, -1)\n",
        "    if j == -1:\n",
        "        return True\n",
        "    if first_bad_pair(sequence, j) == -1:\n",
        "        return True\n",
        "    if first_bad_pair(sequence, j+1) == -1:\n",
        "        return True\n",
        "    return False"
      ],
      "metadata": {
        "id": "EBUr_YYlToFV"
      },
      "execution_count": null,
      "outputs": []
    },
    {
      "cell_type": "markdown",
      "source": [
        "## Matrix Elements Sum (8)\n",
        "After becoming famous, the CodeBots decided to move into a new building together. Each of the rooms has a different cost, and some of them are free, but there's a rumour that all the free rooms are haunted! Since the CodeBots are quite superstitious, they refuse to stay in any of the free rooms, or any of the rooms below any of the free rooms.\n",
        "\n",
        "Given matrix, a rectangular matrix of integers, where each value represents the cost of the room, your task is to return the total sum of all rooms that are suitable for the CodeBots (ie: add up all the values that don't appear below a 0).\n",
        "\n",
        "### Example\n",
        "\n",
        "For\n",
        "\n",
        "matrix = [[0, 1, 1, 2], \n",
        "          [0, 5, 0, 0], \n",
        "          [2, 0, 3, 3]]\n",
        "the output should be\n",
        "solution(matrix) = 9."
      ],
      "metadata": {
        "id": "-tNrHDXvTo71"
      }
    },
    {
      "cell_type": "code",
      "source": [
        "def matrixElementsSum(matrix):\n",
        "    cnt=0\n",
        "    unzipped=list(zip(*matrix))\n",
        "    for i in range(len(unzipped)):\n",
        "        for j in range(len(unzipped[i])):\n",
        "            cnt+=unzipped[i][j]\n",
        "            if unzipped[i][j]==0:\n",
        "                break\n",
        "    return cnt"
      ],
      "metadata": {
        "id": "G5crrWShTpPX"
      },
      "execution_count": null,
      "outputs": []
    }
  ]
}