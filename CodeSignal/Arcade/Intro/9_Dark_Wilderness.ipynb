{
  "nbformat": 4,
  "nbformat_minor": 0,
  "metadata": {
    "colab": {
      "name": "9_Dark Wilderness.ipynb",
      "provenance": []
    },
    "kernelspec": {
      "name": "python3",
      "display_name": "Python 3"
    },
    "language_info": {
      "name": "python"
    }
  },
  "cells": [
    {
      "cell_type": "markdown",
      "source": [
        "# Code Signal Dark Wilderness"
      ],
      "metadata": {
        "id": "eNLQI5OfZtWD"
      }
    },
    {
      "cell_type": "markdown",
      "source": [
        "## Growing Plant (38)\n",
        "Caring for a plant can be hard work, but since you tend to it regularly, you have a plant that grows consistently. Each day, its height increases by a fixed amount represented by the integer upSpeed. But due to lack of sunlight, the plant decreases in height every night, by an amount represented by downSpeed.\n",
        "\n",
        "Since you grew the plant from a seed, it started at height 0 initially. Given an integer desiredHeight, your task is to find how many days it'll take for the plant to reach this height.\n",
        "\n",
        "### Example\n",
        "\n",
        "For upSpeed = 100, downSpeed = 10, and desiredHeight = 910, the output should be\n",
        "solution(upSpeed, downSpeed, desiredHeight) = 10."
      ],
      "metadata": {
        "id": "pLeJJxz6Z3gm"
      }
    },
    {
      "cell_type": "code",
      "source": [
        "def growingPlant(upSpeed, downSpeed, desiredHeight):\n",
        "    days = 0\n",
        "    height = 0\n",
        " \n",
        "    while height < desiredHeight - upSpeed :\n",
        "        height += (upSpeed - downSpeed)\n",
        "        days += 1       \n",
        "    \n",
        "    return days+1"
      ],
      "metadata": {
        "id": "B8dvb3xzZ310"
      },
      "execution_count": null,
      "outputs": []
    },
    {
      "cell_type": "markdown",
      "source": [
        "## Knapsack Light (39)\n",
        "You found two items in a treasure chest! The first item weighs weight1 and is worth value1, and the second item weighs weight2 and is worth value2. What is the total maximum value of the items you can take with you, assuming that your max weight capacity is maxW and you can't come back for the items later?\n",
        "\n",
        "Note that there are only two items and you can't bring more than one item of each type, i.e. you can't take two first items or two second items.\n",
        "\n",
        "### Example\n",
        "\n",
        "For value1 = 10, weight1 = 5, value2 = 6, weight2 = 4, and maxW = 8, the output should be\n",
        "solution(value1, weight1, value2, weight2, maxW) = 10.\n",
        "\n",
        "You can only carry the first item.\n",
        "\n",
        "For value1 = 10, weight1 = 5, value2 = 6, weight2 = 4, and maxW = 9, the output should be\n",
        "solution(value1, weight1, value2, weight2, maxW) = 16.\n",
        "\n",
        "You're strong enough to take both of the items with you.\n",
        "\n",
        "For value1 = 5, weight1 = 3, value2 = 7, weight2 = 4, and maxW = 6, the output should be\n",
        "solution(value1, weight1, value2, weight2, maxW) = 7.\n",
        "\n",
        "You can't take both items, but you can take any of them."
      ],
      "metadata": {
        "id": "0mIu_4dBZ4QQ"
      }
    },
    {
      "cell_type": "code",
      "source": [
        "def knapsackLight(value1, weight1, value2, weight2, maxW):\n",
        "    if weight1+weight2<=maxW:\n",
        "        return value1+value2\n",
        "    \n",
        "    if weight1>maxW and weight2<=maxW:\n",
        "        return value2\n",
        "    elif weight2>maxW and weight1<=maxW:\n",
        "        return value1\n",
        "    elif weight1>maxW and weight2>maxW:\n",
        "        return 0\n",
        "    \n",
        "    return max(value1,value2)"
      ],
      "metadata": {
        "id": "b_7SnT7fZ4uo"
      },
      "execution_count": null,
      "outputs": []
    },
    {
      "cell_type": "markdown",
      "source": [
        "## Longest Digits Prefix (40)\n",
        "Given a string, output its longest prefix which contains only digits.\n",
        "\n",
        "### Example\n",
        "\n",
        "For inputString = \"123aa1\", the output should be\n",
        "solution(inputString) = \"123\"."
      ],
      "metadata": {
        "id": "F-SJHz0vZ6io"
      }
    },
    {
      "cell_type": "code",
      "source": [
        "def longestDigitsPrefix(inputString):\n",
        "    c = \"\"\n",
        "    for i in inputString:\n",
        "        if i.isdigit():\n",
        "            c += i \n",
        "        else:\n",
        "            break\n",
        "    return c"
      ],
      "metadata": {
        "id": "tTdIOykFZ63F"
      },
      "execution_count": null,
      "outputs": []
    },
    {
      "cell_type": "markdown",
      "source": [
        "# Digit Degree (41)\n",
        "Let's define digit degree of some positive integer as the number of times we need to replace this number with the sum of its digits until we get to a one digit number.\n",
        "\n",
        "Given an integer, find its digit degree.\n",
        "\n",
        "### Example\n",
        "\n",
        "For n = 5, the output should be\n",
        "solution(n) = 0;\n",
        "For n = 100, the output should be\n",
        "solution(n) = 1.\n",
        "1 + 0 + 0 = 1.\n",
        "For n = 91, the output should be\n",
        "solution(n) = 2.\n",
        "9 + 1 = 10 -> 1 + 0 = 1."
      ],
      "metadata": {
        "id": "lraKkzAKZ7bU"
      }
    },
    {
      "cell_type": "code",
      "source": [
        "def digitDegree(n):\n",
        "    c = 0\n",
        "    while (n >= 10):\n",
        "        n = sum(int(d) for d in str(n))\n",
        "        c += 1\n",
        "    return c"
      ],
      "metadata": {
        "id": "-kFsq-idZ7w0"
      },
      "execution_count": null,
      "outputs": []
    },
    {
      "cell_type": "markdown",
      "source": [
        "## Bishop and Pawn (42)\n",
        "Given the positions of a white bishop and a black pawn on the standard chess board, determine whether the bishop can capture the pawn in one move.\n",
        "\n",
        "The bishop has no restrictions in distance for each move, but is limited to diagonal movement.\n",
        "\n",
        "### Example\n",
        "\n",
        "For bishop = \"a1\" and pawn = \"c3\", the output should be\n",
        "solution(bishop, pawn) = true."
      ],
      "metadata": {
        "id": "h06E5sc1Z85S"
      }
    },
    {
      "cell_type": "code",
      "source": [
        "def bishopAndPawn(bishop, pawn):\n",
        "    return abs(ord(bishop[0]) - ord(pawn[0])) == abs(int(bishop[1]) - int(pawn[1]))"
      ],
      "metadata": {
        "id": "OLFSwxBfZ9Po"
      },
      "execution_count": null,
      "outputs": []
    }
  ]
}